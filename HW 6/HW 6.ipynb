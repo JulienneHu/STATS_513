{
 "cells": [
  {
   "cell_type": "markdown",
   "metadata": {},
   "source": [
    "# HW 6"
   ]
  },
  {
   "cell_type": "code",
   "execution_count": 166,
   "metadata": {
    "vscode": {
     "languageId": "r"
    }
   },
   "outputs": [],
   "source": [
    "library(faraway)\n",
    "library(ggplot2)\n",
    "library(ggpubr)"
   ]
  },
  {
   "cell_type": "markdown",
   "metadata": {},
   "source": [
    "## Part A (Maximum 4 pages 100 points). "
   ]
  },
  {
   "cell_type": "markdown",
   "metadata": {},
   "source": [
    "##### Ankylosing spondylitis is a chronic form of arthritis. A study was conducted to determine whether daily stretching of the hip tissues would improve mobility. The data are found in hips. The flexion angle of the hip before the study ($fbef$) is a predictor and the flexion angle after the study ($faft$) is the response. (The variables $rbef$ and $raft$ won’t be used.)"
   ]
  },
  {
   "cell_type": "code",
   "execution_count": 167,
   "metadata": {
    "vscode": {
     "languageId": "r"
    }
   },
   "outputs": [
    {
     "data": {
      "text/html": [
       "<table class=\"dataframe\">\n",
       "<caption>A data.frame: 6 × 7</caption>\n",
       "<thead>\n",
       "\t<tr><th></th><th scope=col>fbef</th><th scope=col>faft</th><th scope=col>rbef</th><th scope=col>raft</th><th scope=col>grp</th><th scope=col>side</th><th scope=col>person</th></tr>\n",
       "\t<tr><th></th><th scope=col>&lt;dbl&gt;</th><th scope=col>&lt;dbl&gt;</th><th scope=col>&lt;dbl&gt;</th><th scope=col>&lt;dbl&gt;</th><th scope=col>&lt;fct&gt;</th><th scope=col>&lt;fct&gt;</th><th scope=col>&lt;fct&gt;</th></tr>\n",
       "</thead>\n",
       "<tbody>\n",
       "\t<tr><th scope=row>1</th><td>125</td><td>126</td><td>25</td><td>36</td><td>treat</td><td>right</td><td>1</td></tr>\n",
       "\t<tr><th scope=row>2</th><td>120</td><td>127</td><td>35</td><td>37</td><td>treat</td><td>left </td><td>1</td></tr>\n",
       "\t<tr><th scope=row>3</th><td>135</td><td>135</td><td>28</td><td>40</td><td>treat</td><td>right</td><td>2</td></tr>\n",
       "\t<tr><th scope=row>4</th><td>135</td><td>135</td><td>24</td><td>34</td><td>treat</td><td>left </td><td>2</td></tr>\n",
       "\t<tr><th scope=row>5</th><td>100</td><td>113</td><td>26</td><td>30</td><td>treat</td><td>right</td><td>3</td></tr>\n",
       "\t<tr><th scope=row>6</th><td>110</td><td>115</td><td>24</td><td>26</td><td>treat</td><td>left </td><td>3</td></tr>\n",
       "</tbody>\n",
       "</table>\n"
      ],
      "text/latex": [
       "A data.frame: 6 × 7\n",
       "\\begin{tabular}{r|lllllll}\n",
       "  & fbef & faft & rbef & raft & grp & side & person\\\\\n",
       "  & <dbl> & <dbl> & <dbl> & <dbl> & <fct> & <fct> & <fct>\\\\\n",
       "\\hline\n",
       "\t1 & 125 & 126 & 25 & 36 & treat & right & 1\\\\\n",
       "\t2 & 120 & 127 & 35 & 37 & treat & left  & 1\\\\\n",
       "\t3 & 135 & 135 & 28 & 40 & treat & right & 2\\\\\n",
       "\t4 & 135 & 135 & 24 & 34 & treat & left  & 2\\\\\n",
       "\t5 & 100 & 113 & 26 & 30 & treat & right & 3\\\\\n",
       "\t6 & 110 & 115 & 24 & 26 & treat & left  & 3\\\\\n",
       "\\end{tabular}\n"
      ],
      "text/markdown": [
       "\n",
       "A data.frame: 6 × 7\n",
       "\n",
       "| <!--/--> | fbef &lt;dbl&gt; | faft &lt;dbl&gt; | rbef &lt;dbl&gt; | raft &lt;dbl&gt; | grp &lt;fct&gt; | side &lt;fct&gt; | person &lt;fct&gt; |\n",
       "|---|---|---|---|---|---|---|---|\n",
       "| 1 | 125 | 126 | 25 | 36 | treat | right | 1 |\n",
       "| 2 | 120 | 127 | 35 | 37 | treat | left  | 1 |\n",
       "| 3 | 135 | 135 | 28 | 40 | treat | right | 2 |\n",
       "| 4 | 135 | 135 | 24 | 34 | treat | left  | 2 |\n",
       "| 5 | 100 | 113 | 26 | 30 | treat | right | 3 |\n",
       "| 6 | 110 | 115 | 24 | 26 | treat | left  | 3 |\n",
       "\n"
      ],
      "text/plain": [
       "  fbef faft rbef raft grp   side  person\n",
       "1 125  126  25   36   treat right 1     \n",
       "2 120  127  35   37   treat left  1     \n",
       "3 135  135  28   40   treat right 2     \n",
       "4 135  135  24   34   treat left  2     \n",
       "5 100  113  26   30   treat right 3     \n",
       "6 110  115  24   26   treat left  3     "
      ]
     },
     "metadata": {},
     "output_type": "display_data"
    },
    {
     "data": {
      "text/plain": [
       "      fbef            faft            rbef            raft            grp    \n",
       " Min.   : 77.0   Min.   : 88.0   Min.   : 2.00   Min.   : 2.00   control:24  \n",
       " 1st Qu.:108.0   1st Qu.:115.0   1st Qu.:20.25   1st Qu.:25.00   treat  :54  \n",
       " Median :115.0   Median :121.0   Median :25.00   Median :30.00               \n",
       " Mean   :114.5   Mean   :120.8   Mean   :24.85   Mean   :29.71               \n",
       " 3rd Qu.:123.0   3rd Qu.:127.0   3rd Qu.:31.50   3rd Qu.:36.00               \n",
       " Max.   :135.0   Max.   :139.0   Max.   :48.00   Max.   :50.00               \n",
       "                                                                             \n",
       "    side        person  \n",
       " right:39   1      : 2  \n",
       " left :39   2      : 2  \n",
       "            3      : 2  \n",
       "            4      : 2  \n",
       "            5      : 2  \n",
       "            6      : 2  \n",
       "            (Other):66  "
      ]
     },
     "metadata": {},
     "output_type": "display_data"
    },
    {
     "data": {
      "text/html": [
       "<style>\n",
       ".list-inline {list-style: none; margin:0; padding: 0}\n",
       ".list-inline>li {display: inline-block}\n",
       ".list-inline>li:not(:last-child)::after {content: \"\\00b7\"; padding: 0 .5ex}\n",
       "</style>\n",
       "<ol class=list-inline><li>78</li><li>7</li></ol>\n"
      ],
      "text/latex": [
       "\\begin{enumerate*}\n",
       "\\item 78\n",
       "\\item 7\n",
       "\\end{enumerate*}\n"
      ],
      "text/markdown": [
       "1. 78\n",
       "2. 7\n",
       "\n",
       "\n"
      ],
      "text/plain": [
       "[1] 78  7"
      ]
     },
     "metadata": {},
     "output_type": "display_data"
    }
   ],
   "source": [
    "# initialize data\n",
    "data(hips)\n",
    "head(hips)\n",
    "summary(hips)\n",
    "dim(hips)"
   ]
  },
  {
   "cell_type": "markdown",
   "metadata": {},
   "source": [
    "##### 1. (10 points) Plot the data using different plotting symbols for the treatment and the control status."
   ]
  },
  {
   "cell_type": "code",
   "execution_count": 168,
   "metadata": {
    "vscode": {
     "languageId": "r"
    }
   },
   "outputs": [
    {
     "data": {
      "text/plain": [
       "hips$grp: control\n",
       "      fbef            faft            rbef            raft            grp    \n",
       " Min.   : 81.0   Min.   : 96.0   Min.   : 4.00   Min.   : 2.00   control:24  \n",
       " 1st Qu.:105.0   1st Qu.:110.0   1st Qu.:21.75   1st Qu.:24.00   treat  : 0  \n",
       " Median :112.0   Median :115.0   Median :26.00   Median :27.00               \n",
       " Mean   :110.0   Mean   :113.8   Mean   :25.00   Mean   :25.96               \n",
       " 3rd Qu.:114.2   3rd Qu.:120.0   3rd Qu.:29.00   3rd Qu.:30.25               \n",
       " Max.   :126.0   Max.   :126.0   Max.   :36.00   Max.   :41.00               \n",
       "                                                                             \n",
       "    side        person  \n",
       " right:12   28     : 2  \n",
       " left :12   29     : 2  \n",
       "            30     : 2  \n",
       "            31     : 2  \n",
       "            32     : 2  \n",
       "            33     : 2  \n",
       "            (Other):12  \n",
       "------------------------------------------------------------ \n",
       "hips$grp: treat\n",
       "      fbef            faft          rbef            raft            grp    \n",
       " Min.   : 77.0   Min.   : 88   Min.   : 2.00   Min.   :10.00   control: 0  \n",
       " 1st Qu.:111.2   1st Qu.:120   1st Qu.:20.00   1st Qu.:26.00   treat  :54  \n",
       " Median :120.0   Median :126   Median :25.00   Median :32.00               \n",
       " Mean   :116.5   Mean   :124   Mean   :24.78   Mean   :31.37               \n",
       " 3rd Qu.:125.0   3rd Qu.:129   3rd Qu.:31.50   3rd Qu.:37.75               \n",
       " Max.   :135.0   Max.   :139   Max.   :48.00   Max.   :50.00               \n",
       "                                                                           \n",
       "    side        person  \n",
       " right:27   1      : 2  \n",
       " left :27   2      : 2  \n",
       "            3      : 2  \n",
       "            4      : 2  \n",
       "            5      : 2  \n",
       "            6      : 2  \n",
       "            (Other):42  "
      ]
     },
     "metadata": {},
     "output_type": "display_data"
    }
   ],
   "source": [
    "by(hips, hips$grp, summary)"
   ]
  },
  {
   "cell_type": "code",
   "execution_count": 169,
   "metadata": {
    "vscode": {
     "languageId": "r"
    }
   },
   "outputs": [
    {
     "data": {
      "image/png": "[encoded data removed]",
      "text/plain": [
       "plot without title"
      ]
     },
     "metadata": {
      "image/png": {
       "height": 420,
       "width": 420
      }
     },
     "output_type": "display_data"
    }
   ],
   "source": [
    "bxp = ggplot(hips, aes(fbef, faft, color = grp))+geom_boxplot(outlier.colour=\"black\", outlier.shape=16,outlier.size=3, notch=FALSE)\n",
    "scp = ggplot(hips, aes(fbef, faft, color = grp)) + geom_point(size = 5)\n",
    "ggarrange(bxp,scp , labels = c(\"boxplot_grp\", \"scatterplot_grp\"),ncol = 2, nrow = 1)"
   ]
  },
  {
   "cell_type": "markdown",
   "metadata": {},
   "source": [
    "From the boxplot, we can see that the average $faft$ values in control group are lower than the ones in treat group; besides, there are two obvious outliers in treating group.\\\n",
    "From the scatterplot, we can see that the $fbef$ and $faft$ have a rough linear relationship there. We can also see that the control group tends to have lower $faft$ and $fbef$ values, while the treating group tends to have higher $faft$ and $fbef$ values."
   ]
  },
  {
   "cell_type": "markdown",
   "metadata": {},
   "source": [
    "##### 2. (20 points) Fit a model to determine whether there is a treatment effect. (Hints: Please use model selection to select the model. For example, you may need to determine whether the interaction term should be included)"
   ]
  },
  {
   "cell_type": "code",
   "execution_count": 170,
   "metadata": {
    "vscode": {
     "languageId": "r"
    }
   },
   "outputs": [
    {
     "data": {
      "text/plain": [
       "\n",
       "Call:\n",
       "lm(formula = faft ~ fbef + grp + fbef * grp, data = hips)\n",
       "\n",
       "Residuals:\n",
       "     Min       1Q   Median       3Q      Max \n",
       "-27.7919  -3.2746   0.1585   3.0270  20.5036 \n",
       "\n",
       "Coefficients:\n",
       "              Estimate Std. Error t value Pr(>|t|)    \n",
       "(Intercept)    50.8476    16.7102   3.043 0.003242 ** \n",
       "fbef            0.5721     0.1514   3.778 0.000317 ***\n",
       "grptreat       18.6146    19.0800   0.976 0.332436    \n",
       "fbef:grptreat  -0.1041     0.1706  -0.610 0.543696    \n",
       "---\n",
       "Signif. codes:  0 ‘***’ 0.001 ‘**’ 0.01 ‘*’ 0.05 ‘.’ 0.1 ‘ ’ 1\n",
       "\n",
       "Residual standard error: 7.006 on 74 degrees of freedom\n",
       "Multiple R-squared:  0.535,\tAdjusted R-squared:  0.5161 \n",
       "F-statistic: 28.38 on 3 and 74 DF,  p-value: 2.547e-12\n"
      ]
     },
     "metadata": {},
     "output_type": "display_data"
    }
   ],
   "source": [
    "lmod_inter = lm(faft~fbef+grp+fbef*grp,hips)\n",
    "summary(lmod_inter)"
   ]
  },
  {
   "cell_type": "code",
   "execution_count": 171,
   "metadata": {
    "vscode": {
     "languageId": "r"
    }
   },
   "outputs": [
    {
     "data": {
      "text/html": [
       "<table class=\"dataframe\">\n",
       "<caption>A matrix: 3 × 3 of type dbl</caption>\n",
       "<thead>\n",
       "\t<tr><th></th><th scope=col>fbef</th><th scope=col>grptreat</th><th scope=col>fbef:grptreat</th></tr>\n",
       "</thead>\n",
       "<tbody>\n",
       "\t<tr><th scope=row>fbef</th><td>1.00</td><td>0.26</td><td>0.41</td></tr>\n",
       "\t<tr><th scope=row>grptreat</th><td>0.26</td><td>1.00</td><td>0.98</td></tr>\n",
       "\t<tr><th scope=row>fbef:grptreat</th><td>0.41</td><td>0.98</td><td>1.00</td></tr>\n",
       "</tbody>\n",
       "</table>\n"
      ],
      "text/latex": [
       "A matrix: 3 × 3 of type dbl\n",
       "\\begin{tabular}{r|lll}\n",
       "  & fbef & grptreat & fbef:grptreat\\\\\n",
       "\\hline\n",
       "\tfbef & 1.00 & 0.26 & 0.41\\\\\n",
       "\tgrptreat & 0.26 & 1.00 & 0.98\\\\\n",
       "\tfbef:grptreat & 0.41 & 0.98 & 1.00\\\\\n",
       "\\end{tabular}\n"
      ],
      "text/markdown": [
       "\n",
       "A matrix: 3 × 3 of type dbl\n",
       "\n",
       "| <!--/--> | fbef | grptreat | fbef:grptreat |\n",
       "|---|---|---|---|\n",
       "| fbef | 1.00 | 0.26 | 0.41 |\n",
       "| grptreat | 0.26 | 1.00 | 0.98 |\n",
       "| fbef:grptreat | 0.41 | 0.98 | 1.00 |\n",
       "\n"
      ],
      "text/plain": [
       "              fbef grptreat fbef:grptreat\n",
       "fbef          1.00 0.26     0.41         \n",
       "grptreat      0.26 1.00     0.98         \n",
       "fbef:grptreat 0.41 0.98     1.00         "
      ]
     },
     "metadata": {},
     "output_type": "display_data"
    }
   ],
   "source": [
    "X = model.matrix(lmod_inter)[, -1]\n",
    "round(cor(X),2)"
   ]
  },
  {
   "cell_type": "markdown",
   "metadata": {},
   "source": [
    "We can see that the $p$-value for the interaction term is 0.543696, which is insignificant. Therefore, we should not include the interaction term."
   ]
  },
  {
   "cell_type": "code",
   "execution_count": 172,
   "metadata": {
    "vscode": {
     "languageId": "r"
    }
   },
   "outputs": [
    {
     "data": {
      "text/plain": [
       "\n",
       "Call:\n",
       "lm(formula = faft ~ fbef + grp, data = hips)\n",
       "\n",
       "Residuals:\n",
       "     Min       1Q   Median       3Q      Max \n",
       "-27.4050  -3.1586   0.0214   3.1850  21.3768 \n",
       "\n",
       "Coefficients:\n",
       "            Estimate Std. Error t value Pr(>|t|)    \n",
       "(Intercept) 59.86141    7.77213   7.702 4.39e-11 ***\n",
       "fbef         0.49008    0.06949   7.053 7.39e-10 ***\n",
       "grptreat     7.02553    1.77085   3.967 0.000165 ***\n",
       "---\n",
       "Signif. codes:  0 ‘***’ 0.001 ‘**’ 0.01 ‘*’ 0.05 ‘.’ 0.1 ‘ ’ 1\n",
       "\n",
       "Residual standard error: 6.976 on 75 degrees of freedom\n",
       "Multiple R-squared:  0.5327,\tAdjusted R-squared:  0.5202 \n",
       "F-statistic: 42.74 on 2 and 75 DF,  p-value: 4.087e-13\n"
      ]
     },
     "metadata": {},
     "output_type": "display_data"
    }
   ],
   "source": [
    "lmod = lm(faft~fbef+grp,hips)\n",
    "summary(lmod)"
   ]
  },
  {
   "cell_type": "markdown",
   "metadata": {},
   "source": [
    "We can see all predictors are significant here, which means this model is a better fit for the dataset."
   ]
  },
  {
   "cell_type": "markdown",
   "metadata": {},
   "source": [
    "##### 3. (20 points) Compute the difference between the flexion before and after and test whether this difference varies between treatment and control.Contrast this approach to your previous model. (use $var.equal = T$ in the test)"
   ]
  },
  {
   "cell_type": "code",
   "execution_count": 173,
   "metadata": {
    "vscode": {
     "languageId": "r"
    }
   },
   "outputs": [
    {
     "name": "stderr",
     "output_type": "stream",
     "text": [
      "The following objects are masked from hips_new (pos = 3):\n",
      "\n",
      "    faft, fbef, grp, person\n",
      "\n",
      "\n",
      "The following objects are masked from hips (pos = 4):\n",
      "\n",
      "    faft, fbef, grp, person, raft, rbef, side\n",
      "\n",
      "\n",
      "The following objects are masked from hips_new (pos = 5):\n",
      "\n",
      "    faft, fbef, grp, person\n",
      "\n",
      "\n",
      "The following objects are masked from hips (pos = 6):\n",
      "\n",
      "    faft, fbef, grp, person, raft, rbef, side\n",
      "\n",
      "\n",
      "The following objects are masked from hips_new (pos = 7):\n",
      "\n",
      "    faft, fbef, grp, person\n",
      "\n",
      "\n",
      "The following objects are masked from hips (pos = 8):\n",
      "\n",
      "    faft, fbef, grp, person, raft, rbef, side\n",
      "\n",
      "\n",
      "The following objects are masked from hips_new (pos = 9):\n",
      "\n",
      "    faft, fbef, grp, person\n",
      "\n",
      "\n",
      "The following objects are masked from hips (pos = 10):\n",
      "\n",
      "    faft, fbef, grp, person, raft, rbef, side\n",
      "\n",
      "\n",
      "The following objects are masked from hips_new (pos = 11):\n",
      "\n",
      "    faft, fbef, grp, person\n",
      "\n",
      "\n",
      "The following objects are masked from hips (pos = 12):\n",
      "\n",
      "    faft, fbef, grp, person, raft, rbef, side\n",
      "\n",
      "\n",
      "The following objects are masked from hips_new (pos = 13):\n",
      "\n",
      "    faft, fbef, grp, person\n",
      "\n",
      "\n",
      "The following objects are masked from hips_new (pos = 14):\n",
      "\n",
      "    faft, fbef, grp, person\n",
      "\n",
      "\n",
      "The following objects are masked from hips_new (pos = 15):\n",
      "\n",
      "    faft, fbef, grp, person\n",
      "\n",
      "\n",
      "The following objects are masked from hips (pos = 16):\n",
      "\n",
      "    faft, fbef, grp, person, raft, rbef, side\n",
      "\n",
      "\n",
      "The following objects are masked from hips (pos = 17):\n",
      "\n",
      "    faft, fbef, grp, person, raft, rbef, side\n",
      "\n",
      "\n",
      "The following objects are masked from hips_new (pos = 18):\n",
      "\n",
      "    faft, fbef, grp, person\n",
      "\n",
      "\n",
      "The following objects are masked from hips_new (pos = 19):\n",
      "\n",
      "    faft, fbef, grp, person\n",
      "\n",
      "\n",
      "The following objects are masked from hips_new (pos = 20):\n",
      "\n",
      "    faft, fbef, grp, person\n",
      "\n",
      "\n",
      "The following objects are masked from hips_new (pos = 21):\n",
      "\n",
      "    faft, fbef, grp, person\n",
      "\n",
      "\n",
      "The following objects are masked from hips_new (pos = 22):\n",
      "\n",
      "    faft, fbef, grp, person\n",
      "\n",
      "\n",
      "The following objects are masked from hips_new (pos = 23):\n",
      "\n",
      "    faft, fbef, grp, person\n",
      "\n",
      "\n",
      "The following objects are masked from hips (pos = 24):\n",
      "\n",
      "    faft, fbef, grp, person, raft, rbef, side\n",
      "\n",
      "\n"
     ]
    }
   ],
   "source": [
    "attach(hips)"
   ]
  },
  {
   "cell_type": "code",
   "execution_count": 174,
   "metadata": {
    "vscode": {
     "languageId": "r"
    }
   },
   "outputs": [
    {
     "data": {
      "text/plain": [
       "\n",
       "\tTwo Sample t-test\n",
       "\n",
       "data:  diff[grp == \"treat\"] and diff[grp == \"control\"]\n",
       "t = 1.6557, df = 76, p-value = 0.1019\n",
       "alternative hypothesis: true difference in means is not equal to 0\n",
       "95 percent confidence interval:\n",
       " -0.7487195  8.1283492\n",
       "sample estimates:\n",
       "mean of x mean of y \n",
       " 7.481481  3.791667 \n"
      ]
     },
     "metadata": {},
     "output_type": "display_data"
    }
   ],
   "source": [
    "diff = faft-fbef\n",
    "t.test(diff[grp==\"treat\"], diff[grp==\"control\"], var.equal = T)"
   ]
  },
  {
   "cell_type": "markdown",
   "metadata": {},
   "source": [
    "We can see that the $p$-value is 0.1019, the CI includes 0 as well. As a result, we do not have enough evidence to reject $H_0$ (no difference between differences of flexion before and after in treatment and control)."
   ]
  },
  {
   "cell_type": "markdown",
   "metadata": {},
   "source": [
    "##### 4. (10 points) What is the estimated size of the treatment effect? Give a 95% confidence interval."
   ]
  },
  {
   "cell_type": "code",
   "execution_count": 175,
   "metadata": {
    "vscode": {
     "languageId": "r"
    }
   },
   "outputs": [
    {
     "data": {
      "text/html": [
       "<table class=\"dataframe\">\n",
       "<caption>A matrix: 3 × 2 of type dbl</caption>\n",
       "<thead>\n",
       "\t<tr><th></th><th scope=col>2.5 %</th><th scope=col>97.5 %</th></tr>\n",
       "</thead>\n",
       "<tbody>\n",
       "\t<tr><th scope=row>(Intercept)</th><td>44.3785299</td><td>75.3442960</td></tr>\n",
       "\t<tr><th scope=row>fbef</th><td> 0.3516589</td><td> 0.6285049</td></tr>\n",
       "\t<tr><th scope=row>grptreat</th><td> 3.4978116</td><td>10.5532467</td></tr>\n",
       "</tbody>\n",
       "</table>\n"
      ],
      "text/latex": [
       "A matrix: 3 × 2 of type dbl\n",
       "\\begin{tabular}{r|ll}\n",
       "  & 2.5 \\% & 97.5 \\%\\\\\n",
       "\\hline\n",
       "\t(Intercept) & 44.3785299 & 75.3442960\\\\\n",
       "\tfbef &  0.3516589 &  0.6285049\\\\\n",
       "\tgrptreat &  3.4978116 & 10.5532467\\\\\n",
       "\\end{tabular}\n"
      ],
      "text/markdown": [
       "\n",
       "A matrix: 3 × 2 of type dbl\n",
       "\n",
       "| <!--/--> | 2.5 % | 97.5 % |\n",
       "|---|---|---|\n",
       "| (Intercept) | 44.3785299 | 75.3442960 |\n",
       "| fbef |  0.3516589 |  0.6285049 |\n",
       "| grptreat |  3.4978116 | 10.5532467 |\n",
       "\n"
      ],
      "text/plain": [
       "            2.5 %      97.5 %    \n",
       "(Intercept) 44.3785299 75.3442960\n",
       "fbef         0.3516589  0.6285049\n",
       "grptreat     3.4978116 10.5532467"
      ]
     },
     "metadata": {},
     "output_type": "display_data"
    }
   ],
   "source": [
    "confint(lmod)"
   ]
  },
  {
   "cell_type": "markdown",
   "metadata": {},
   "source": [
    "The estimated size of the treatment effect is 7.02553. The 95% confidence interval is (3.4978116, 10.5532467)."
   ]
  },
  {
   "cell_type": "markdown",
   "metadata": {},
   "source": [
    "##### 5. (20 points) Notice that both legs of each subject have been included in the study as separate observations. Explain what difficulties this causes with the model assumptions."
   ]
  },
  {
   "cell_type": "markdown",
   "metadata": {},
   "source": [
    "One of the standard assumptions in the regression model is that the error terms $\\epsilon_i$ and $\\epsilon_j$ , associated with the $i^{th}$ and $j^{th}$  observations, are uncorrelated. Besides, we also usually assume there is no collinearity between predictors. If the observations of both legs are included, it is very likely to have correlated predictors and correlated errors. Collinearity will lead to the result that changing in one variable would cause change to another and so the model results fluctuate significantly. Besides, if the error terms are correlated then the standard error in the model coefficients gets underestimated. As a result, confidence and prediction intervals will be narrower than they should be."
   ]
  },
  {
   "cell_type": "markdown",
   "metadata": {},
   "source": [
    "##### 6. (20 points) Compute the average angles for each subject and repeat the modeling with this reduced data set (hips new). Point out differences in the conclusions if any. The code below will help you get the average."
   ]
  },
  {
   "cell_type": "code",
   "execution_count": 176,
   "metadata": {
    "vscode": {
     "languageId": "r"
    }
   },
   "outputs": [],
   "source": [
    "hips_new<-aggregate(list(fbef=hips$fbef, faft=hips$faft),by=list(person=hips$person), mean)\n",
    "hips_new$grp=hips$grp[match(hips_new$person,hips$person)]"
   ]
  },
  {
   "cell_type": "code",
   "execution_count": 177,
   "metadata": {
    "vscode": {
     "languageId": "r"
    }
   },
   "outputs": [
    {
     "data": {
      "text/html": [
       "<table class=\"dataframe\">\n",
       "<caption>A data.frame: 6 × 4</caption>\n",
       "<thead>\n",
       "\t<tr><th></th><th scope=col>person</th><th scope=col>fbef</th><th scope=col>faft</th><th scope=col>grp</th></tr>\n",
       "\t<tr><th></th><th scope=col>&lt;fct&gt;</th><th scope=col>&lt;dbl&gt;</th><th scope=col>&lt;dbl&gt;</th><th scope=col>&lt;fct&gt;</th></tr>\n",
       "</thead>\n",
       "<tbody>\n",
       "\t<tr><th scope=row>1</th><td>1</td><td>122.5</td><td>126.5</td><td>treat</td></tr>\n",
       "\t<tr><th scope=row>2</th><td>2</td><td>135.0</td><td>135.0</td><td>treat</td></tr>\n",
       "\t<tr><th scope=row>3</th><td>3</td><td>105.0</td><td>114.0</td><td>treat</td></tr>\n",
       "\t<tr><th scope=row>4</th><td>4</td><td>122.0</td><td>124.0</td><td>treat</td></tr>\n",
       "\t<tr><th scope=row>5</th><td>5</td><td>124.0</td><td>130.5</td><td>treat</td></tr>\n",
       "\t<tr><th scope=row>6</th><td>6</td><td>117.5</td><td>120.0</td><td>treat</td></tr>\n",
       "</tbody>\n",
       "</table>\n"
      ],
      "text/latex": [
       "A data.frame: 6 × 4\n",
       "\\begin{tabular}{r|llll}\n",
       "  & person & fbef & faft & grp\\\\\n",
       "  & <fct> & <dbl> & <dbl> & <fct>\\\\\n",
       "\\hline\n",
       "\t1 & 1 & 122.5 & 126.5 & treat\\\\\n",
       "\t2 & 2 & 135.0 & 135.0 & treat\\\\\n",
       "\t3 & 3 & 105.0 & 114.0 & treat\\\\\n",
       "\t4 & 4 & 122.0 & 124.0 & treat\\\\\n",
       "\t5 & 5 & 124.0 & 130.5 & treat\\\\\n",
       "\t6 & 6 & 117.5 & 120.0 & treat\\\\\n",
       "\\end{tabular}\n"
      ],
      "text/markdown": [
       "\n",
       "A data.frame: 6 × 4\n",
       "\n",
       "| <!--/--> | person &lt;fct&gt; | fbef &lt;dbl&gt; | faft &lt;dbl&gt; | grp &lt;fct&gt; |\n",
       "|---|---|---|---|---|\n",
       "| 1 | 1 | 122.5 | 126.5 | treat |\n",
       "| 2 | 2 | 135.0 | 135.0 | treat |\n",
       "| 3 | 3 | 105.0 | 114.0 | treat |\n",
       "| 4 | 4 | 122.0 | 124.0 | treat |\n",
       "| 5 | 5 | 124.0 | 130.5 | treat |\n",
       "| 6 | 6 | 117.5 | 120.0 | treat |\n",
       "\n"
      ],
      "text/plain": [
       "  person fbef  faft  grp  \n",
       "1 1      122.5 126.5 treat\n",
       "2 2      135.0 135.0 treat\n",
       "3 3      105.0 114.0 treat\n",
       "4 4      122.0 124.0 treat\n",
       "5 5      124.0 130.5 treat\n",
       "6 6      117.5 120.0 treat"
      ]
     },
     "metadata": {},
     "output_type": "display_data"
    }
   ],
   "source": [
    "head(hips_new)"
   ]
  },
  {
   "cell_type": "markdown",
   "metadata": {},
   "source": [
    "##### a) plot boxplot and scatterplot"
   ]
  },
  {
   "cell_type": "code",
   "execution_count": 178,
   "metadata": {
    "vscode": {
     "languageId": "r"
    }
   },
   "outputs": [
    {
     "data": {
      "text/plain": [
       "hips_new$grp: control\n",
       "     person       fbef            faft            grp    \n",
       " 28     :1   Min.   : 94.5   Min.   :101.5   control:12  \n",
       " 29     :1   1st Qu.:103.9   1st Qu.:109.9   treat  : 0  \n",
       " 30     :1   Median :111.0   Median :113.2               \n",
       " 31     :1   Mean   :110.0   Mean   :113.8               \n",
       " 32     :1   3rd Qu.:114.5   3rd Qu.:120.5               \n",
       " 33     :1   Max.   :124.5   Max.   :123.5               \n",
       " (Other):6                                               \n",
       "------------------------------------------------------------ \n",
       "hips_new$grp: treat\n",
       "     person        fbef            faft            grp    \n",
       " 1      : 1   Min.   : 77.5   Min.   : 96.5   control: 0  \n",
       " 2      : 1   1st Qu.:113.2   1st Qu.:120.0   treat  :27  \n",
       " 3      : 1   Median :117.5   Median :125.5               \n",
       " 4      : 1   Mean   :116.5   Mean   :124.0               \n",
       " 5      : 1   3rd Qu.:124.0   3rd Qu.:130.5               \n",
       " 6      : 1   Max.   :135.0   Max.   :137.0               \n",
       " (Other):21                                               "
      ]
     },
     "metadata": {},
     "output_type": "display_data"
    }
   ],
   "source": [
    "by(hips_new, hips_new$grp, summary)"
   ]
  },
  {
   "cell_type": "code",
   "execution_count": 186,
   "metadata": {
    "vscode": {
     "languageId": "r"
    }
   },
   "outputs": [
    {
     "data": {
      "image/png": "[encoded data removed]",
      "text/plain": [
       "plot without title"
      ]
     },
     "metadata": {
      "image/png": {
       "height": 420,
       "width": 420
      }
     },
     "output_type": "display_data"
    }
   ],
   "source": [
    "bxp = ggplot(hips_new, aes(fbef, faft, color = grp))+geom_boxplot(outlier.colour=\"black\", outlier.shape=16,outlier.size=3, notch=FALSE)\n",
    "scp = ggplot(hips_new, aes(fbef, faft, color = grp)) + geom_point(size = 5)\n",
    "ggarrange(bxp,scp , labels = c(\"boxplot_grp_new\", \"scatterplot_grp_new\"),ncol = 2, nrow = 1)"
   ]
  },
  {
   "cell_type": "markdown",
   "metadata": {},
   "source": [
    "From the boxplot, we can see that the average $faft$ values in control group are lower than the ones in treat group; besides, there are one obvious outliers in treating group. Compared to the original dataset, both group have smaller confidence intervals. \\\n",
    "From the scatterplot, we can see that the $fbef$ and $faft$ have a linear relationship there. We can also see that the control group tends to have lower $faft$ and $fbef$ values, while the treating group tends to have higher $faft$ and $fbef$ values."
   ]
  },
  {
   "cell_type": "markdown",
   "metadata": {},
   "source": [
    "##### b) fit a model to test whether there is a treatment effect"
   ]
  },
  {
   "cell_type": "code",
   "execution_count": 180,
   "metadata": {
    "vscode": {
     "languageId": "r"
    }
   },
   "outputs": [
    {
     "data": {
      "text/plain": [
       "\n",
       "Call:\n",
       "lm(formula = faft ~ fbef + grp + fbef * grp, data = hips_new)\n",
       "\n",
       "Residuals:\n",
       "     Min       1Q   Median       3Q      Max \n",
       "-19.3035  -2.7760   0.4106   2.4418  18.2798 \n",
       "\n",
       "Coefficients:\n",
       "              Estimate Std. Error t value Pr(>|t|)   \n",
       "(Intercept)    42.6868    25.2138   1.693  0.09934 . \n",
       "fbef            0.6463     0.2287   2.826  0.00773 **\n",
       "grptreat       25.2514    28.2284   0.895  0.37715   \n",
       "fbef:grptreat  -0.1652     0.2531  -0.653  0.51814   \n",
       "---\n",
       "Signif. codes:  0 ‘***’ 0.001 ‘**’ 0.01 ‘*’ 0.05 ‘.’ 0.1 ‘ ’ 1\n",
       "\n",
       "Residual standard error: 6.461 on 35 degrees of freedom\n",
       "Multiple R-squared:  0.5809,\tAdjusted R-squared:  0.5449 \n",
       "F-statistic: 16.17 on 3 and 35 DF,  p-value: 9.215e-07\n"
      ]
     },
     "metadata": {},
     "output_type": "display_data"
    }
   ],
   "source": [
    "lmod_inter_new = lm(faft~fbef+grp+fbef*grp,hips_new)\n",
    "summary(lmod_inter_new)"
   ]
  },
  {
   "cell_type": "code",
   "execution_count": 181,
   "metadata": {
    "vscode": {
     "languageId": "r"
    }
   },
   "outputs": [
    {
     "data": {
      "text/html": [
       "<table class=\"dataframe\">\n",
       "<caption>A matrix: 3 × 3 of type dbl</caption>\n",
       "<thead>\n",
       "\t<tr><th></th><th scope=col>fbef</th><th scope=col>grptreat</th><th scope=col>fbef:grptreat</th></tr>\n",
       "</thead>\n",
       "<tbody>\n",
       "\t<tr><th scope=row>fbef</th><td>1.00</td><td>0.27</td><td>0.42</td></tr>\n",
       "\t<tr><th scope=row>grptreat</th><td>0.27</td><td>1.00</td><td>0.98</td></tr>\n",
       "\t<tr><th scope=row>fbef:grptreat</th><td>0.42</td><td>0.98</td><td>1.00</td></tr>\n",
       "</tbody>\n",
       "</table>\n"
      ],
      "text/latex": [
       "A matrix: 3 × 3 of type dbl\n",
       "\\begin{tabular}{r|lll}\n",
       "  & fbef & grptreat & fbef:grptreat\\\\\n",
       "\\hline\n",
       "\tfbef & 1.00 & 0.27 & 0.42\\\\\n",
       "\tgrptreat & 0.27 & 1.00 & 0.98\\\\\n",
       "\tfbef:grptreat & 0.42 & 0.98 & 1.00\\\\\n",
       "\\end{tabular}\n"
      ],
      "text/markdown": [
       "\n",
       "A matrix: 3 × 3 of type dbl\n",
       "\n",
       "| <!--/--> | fbef | grptreat | fbef:grptreat |\n",
       "|---|---|---|---|\n",
       "| fbef | 1.00 | 0.27 | 0.42 |\n",
       "| grptreat | 0.27 | 1.00 | 0.98 |\n",
       "| fbef:grptreat | 0.42 | 0.98 | 1.00 |\n",
       "\n"
      ],
      "text/plain": [
       "              fbef grptreat fbef:grptreat\n",
       "fbef          1.00 0.27     0.42         \n",
       "grptreat      0.27 1.00     0.98         \n",
       "fbef:grptreat 0.42 0.98     1.00         "
      ]
     },
     "metadata": {},
     "output_type": "display_data"
    }
   ],
   "source": [
    "X = model.matrix(lmod_inter_new)[, -1]\n",
    "round(cor(X),2)"
   ]
  },
  {
   "cell_type": "markdown",
   "metadata": {},
   "source": [
    "We can see that the $p$-value for the interaction term is 0.51814, which is insignificant. Therefore, we should not include the interaction term."
   ]
  },
  {
   "cell_type": "code",
   "execution_count": 182,
   "metadata": {
    "vscode": {
     "languageId": "r"
    }
   },
   "outputs": [
    {
     "data": {
      "text/plain": [
       "\n",
       "Call:\n",
       "lm(formula = faft ~ fbef + grp, data = hips_new)\n",
       "\n",
       "Residuals:\n",
       "     Min       1Q   Median       3Q      Max \n",
       "-18.7879  -2.9049   0.5299   2.3421  19.4625 \n",
       "\n",
       "Coefficients:\n",
       "            Estimate Std. Error t value Pr(>|t|)    \n",
       "(Intercept) 57.51895   10.84560   5.303 5.93e-06 ***\n",
       "fbef         0.51139    0.09719   5.262 6.74e-06 ***\n",
       "grptreat     6.88617    2.31269   2.978  0.00517 ** \n",
       "---\n",
       "Signif. codes:  0 ‘***’ 0.001 ‘**’ 0.01 ‘*’ 0.05 ‘.’ 0.1 ‘ ’ 1\n",
       "\n",
       "Residual standard error: 6.409 on 36 degrees of freedom\n",
       "Multiple R-squared:  0.5758,\tAdjusted R-squared:  0.5522 \n",
       "F-statistic: 24.43 on 2 and 36 DF,  p-value: 1.981e-07\n"
      ]
     },
     "metadata": {},
     "output_type": "display_data"
    }
   ],
   "source": [
    "lmod_new = lm(faft~fbef+grp,hips_new)\n",
    "summary(lmod_new)"
   ]
  },
  {
   "cell_type": "markdown",
   "metadata": {},
   "source": [
    "We can see all predictors are significant here, which means this model is a better fit for the dataset."
   ]
  },
  {
   "cell_type": "markdown",
   "metadata": {},
   "source": [
    "##### c) Compute the difference between the flexion before and after and test whether this difference varies between treatment and control"
   ]
  },
  {
   "cell_type": "code",
   "execution_count": 183,
   "metadata": {
    "vscode": {
     "languageId": "r"
    }
   },
   "outputs": [
    {
     "name": "stderr",
     "output_type": "stream",
     "text": [
      "The following objects are masked from hips (pos = 3):\n",
      "\n",
      "    faft, fbef, grp, person\n",
      "\n",
      "\n",
      "The following objects are masked from hips_new (pos = 4):\n",
      "\n",
      "    faft, fbef, grp, person\n",
      "\n",
      "\n",
      "The following objects are masked from hips (pos = 5):\n",
      "\n",
      "    faft, fbef, grp, person\n",
      "\n",
      "\n",
      "The following objects are masked from hips_new (pos = 6):\n",
      "\n",
      "    faft, fbef, grp, person\n",
      "\n",
      "\n",
      "The following objects are masked from hips (pos = 7):\n",
      "\n",
      "    faft, fbef, grp, person\n",
      "\n",
      "\n",
      "The following objects are masked from hips_new (pos = 8):\n",
      "\n",
      "    faft, fbef, grp, person\n",
      "\n",
      "\n",
      "The following objects are masked from hips (pos = 9):\n",
      "\n",
      "    faft, fbef, grp, person\n",
      "\n",
      "\n",
      "The following objects are masked from hips_new (pos = 10):\n",
      "\n",
      "    faft, fbef, grp, person\n",
      "\n",
      "\n",
      "The following objects are masked from hips (pos = 11):\n",
      "\n",
      "    faft, fbef, grp, person\n",
      "\n",
      "\n",
      "The following objects are masked from hips_new (pos = 12):\n",
      "\n",
      "    faft, fbef, grp, person\n",
      "\n",
      "\n",
      "The following objects are masked from hips (pos = 13):\n",
      "\n",
      "    faft, fbef, grp, person\n",
      "\n",
      "\n",
      "The following objects are masked from hips_new (pos = 14):\n",
      "\n",
      "    faft, fbef, grp, person\n",
      "\n",
      "\n",
      "The following objects are masked from hips_new (pos = 15):\n",
      "\n",
      "    faft, fbef, grp, person\n",
      "\n",
      "\n",
      "The following objects are masked from hips_new (pos = 16):\n",
      "\n",
      "    faft, fbef, grp, person\n",
      "\n",
      "\n",
      "The following objects are masked from hips (pos = 17):\n",
      "\n",
      "    faft, fbef, grp, person\n",
      "\n",
      "\n",
      "The following objects are masked from hips (pos = 18):\n",
      "\n",
      "    faft, fbef, grp, person\n",
      "\n",
      "\n",
      "The following objects are masked from hips_new (pos = 19):\n",
      "\n",
      "    faft, fbef, grp, person\n",
      "\n",
      "\n",
      "The following objects are masked from hips_new (pos = 20):\n",
      "\n",
      "    faft, fbef, grp, person\n",
      "\n",
      "\n",
      "The following objects are masked from hips_new (pos = 21):\n",
      "\n",
      "    faft, fbef, grp, person\n",
      "\n",
      "\n",
      "The following objects are masked from hips_new (pos = 22):\n",
      "\n",
      "    faft, fbef, grp, person\n",
      "\n",
      "\n",
      "The following objects are masked from hips_new (pos = 23):\n",
      "\n",
      "    faft, fbef, grp, person\n",
      "\n",
      "\n",
      "The following objects are masked from hips_new (pos = 24):\n",
      "\n",
      "    faft, fbef, grp, person\n",
      "\n",
      "\n",
      "The following objects are masked from hips (pos = 25):\n",
      "\n",
      "    faft, fbef, grp, person\n",
      "\n",
      "\n"
     ]
    }
   ],
   "source": [
    "attach(hips_new)"
   ]
  },
  {
   "cell_type": "code",
   "execution_count": 184,
   "metadata": {
    "vscode": {
     "languageId": "r"
    }
   },
   "outputs": [
    {
     "data": {
      "text/plain": [
       "\n",
       "\tTwo Sample t-test\n",
       "\n",
       "data:  diff_new[grp == \"treat\"] and diff_new[grp == \"control\"]\n",
       "t = 1.2895, df = 37, p-value = 0.2052\n",
       "alternative hypothesis: true difference in means is not equal to 0\n",
       "95 percent confidence interval:\n",
       " -2.108191  9.487821\n",
       "sample estimates:\n",
       "mean of x mean of y \n",
       " 7.481481  3.791667 \n"
      ]
     },
     "metadata": {},
     "output_type": "display_data"
    }
   ],
   "source": [
    "diff_new = hips_new$faft-hips_new$fbef\n",
    "t.test(diff_new[grp==\"treat\"], diff_new[grp==\"control\"],var.equal = T)"
   ]
  },
  {
   "cell_type": "markdown",
   "metadata": {},
   "source": [
    "From the result above we can see that the $p$-value is 0.2052, the CI includes 0 as well. As a result, we do not have enough evidence to reject $H_0$ (no difference between differences of flexion before and after in treatment and control)."
   ]
  },
  {
   "cell_type": "markdown",
   "metadata": {},
   "source": [
    "##### d) What is the estimated size of the treatment effect? Give a 95% confidence interval."
   ]
  },
  {
   "cell_type": "code",
   "execution_count": 185,
   "metadata": {
    "vscode": {
     "languageId": "r"
    }
   },
   "outputs": [
    {
     "data": {
      "text/html": [
       "<table class=\"dataframe\">\n",
       "<caption>A matrix: 3 × 2 of type dbl</caption>\n",
       "<thead>\n",
       "\t<tr><th></th><th scope=col>2.5 %</th><th scope=col>97.5 %</th></tr>\n",
       "</thead>\n",
       "<tbody>\n",
       "\t<tr><th scope=row>(Intercept)</th><td>35.5230551</td><td>79.5148535</td></tr>\n",
       "\t<tr><th scope=row>fbef</th><td> 0.3142786</td><td> 0.7084914</td></tr>\n",
       "\t<tr><th scope=row>grptreat</th><td> 2.1958191</td><td>11.5765230</td></tr>\n",
       "</tbody>\n",
       "</table>\n"
      ],
      "text/latex": [
       "A matrix: 3 × 2 of type dbl\n",
       "\\begin{tabular}{r|ll}\n",
       "  & 2.5 \\% & 97.5 \\%\\\\\n",
       "\\hline\n",
       "\t(Intercept) & 35.5230551 & 79.5148535\\\\\n",
       "\tfbef &  0.3142786 &  0.7084914\\\\\n",
       "\tgrptreat &  2.1958191 & 11.5765230\\\\\n",
       "\\end{tabular}\n"
      ],
      "text/markdown": [
       "\n",
       "A matrix: 3 × 2 of type dbl\n",
       "\n",
       "| <!--/--> | 2.5 % | 97.5 % |\n",
       "|---|---|---|\n",
       "| (Intercept) | 35.5230551 | 79.5148535 |\n",
       "| fbef |  0.3142786 |  0.7084914 |\n",
       "| grptreat |  2.1958191 | 11.5765230 |\n",
       "\n"
      ],
      "text/plain": [
       "            2.5 %      97.5 %    \n",
       "(Intercept) 35.5230551 79.5148535\n",
       "fbef         0.3142786  0.7084914\n",
       "grptreat     2.1958191 11.5765230"
      ]
     },
     "metadata": {},
     "output_type": "display_data"
    }
   ],
   "source": [
    "confint(lmod_new)"
   ]
  },
  {
   "cell_type": "markdown",
   "metadata": {},
   "source": [
    "So the estimated size of the treatment effect is 6.88617. The 95% confidence interval is (2.1958191, 11.5765230)."
   ]
  }
 ],
 "metadata": {
  "kernelspec": {
   "display_name": "R",
   "language": "R",
   "name": "ir"
  },
  "language_info": {
   "codemirror_mode": "r",
   "file_extension": ".r",
   "mimetype": "text/x-r-source",
   "name": "R",
   "pygments_lexer": "r",
   "version": "4.1.2"
  },
  "orig_nbformat": 4
 },
 "nbformat": 4,
 "nbformat_minor": 2
}
