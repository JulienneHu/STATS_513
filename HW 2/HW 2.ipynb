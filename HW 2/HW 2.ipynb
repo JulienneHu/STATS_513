{
 "cells": [
  {
   "cell_type": "markdown",
   "metadata": {},
   "source": [
    "# HW 2"
   ]
  },
  {
   "cell_type": "code",
   "execution_count": 215,
   "metadata": {},
   "outputs": [],
   "source": [
    "# Initialization\n",
    "library(\"faraway\")\n",
    "library(\"moments\")\n",
    "library(\"ellipse\")"
   ]
  },
  {
   "cell_type": "markdown",
   "metadata": {},
   "source": [
    "## Part A (Maximum 4 pages)."
   ]
  },
  {
   "cell_type": "markdown",
   "metadata": {},
   "source": [
    "Using R, create a 10 ×3 matrix X:\n",
    "$$\\begin{aligned}\\begin{bmatrix} 1 & 2 & -2 \\\\ 1 & -1 & -2 \\\\ 1 & 3 & -2 \\\\ 1 & 3 & 3 \\\\ 1 & 2 & 3 \\\\ 1 & 1 & 3 \\\\ 1 & 0 & 0 \\\\ 1 & 0 & 0 \\\\ 1 & -1 & 0 \\\\ 1 & 0 & 1 \\end{bmatrix}\\end{aligned}$$\n",
    "Now create a $3\\times1$ matrix $\\beta$ whose entries are 1, -1, and 2. Next create a $10\\times1$ matrix $\\epsilon$ whose entries are IID (independent and identically distributed) standard normal (useful command: “rnorm”). Finally, set $Y = X\\beta+\\epsilon$."
   ]
  },
  {
   "cell_type": "code",
   "execution_count": 216,
   "metadata": {},
   "outputs": [],
   "source": [
    "# data initialization\n",
    "X <- matrix(c(\n",
    "    1, 1, 1, 1, 1, 1, 1, 1, 1, 1,\n",
    "    2, -1, 3, 3, 2, 1, 0, 0, -1, 0,\n",
    "    -2, -2, -2, 3, 3, 3, 0, 0, 0, 1\n",
    "),\n",
    "nrow = 10,\n",
    "ncol = 3\n",
    ")\n",
    "beta <- matrix(c(1, -1, 2))\n",
    "epsilon <- rnorm(10)\n",
    "Y <- X %*% beta + epsilon"
   ]
  },
  {
   "cell_type": "markdown",
   "metadata": {},
   "source": [
    "1. Calculate $(X^′X)^{−1}X^′Y$ to estimate β. What do you get? (Don’t use the “lm” command. Do the computation directly. You can use the “solve” command to compute a matrix inverse.)"
   ]
  },
  {
   "cell_type": "code",
   "execution_count": 217,
   "metadata": {},
   "outputs": [
    {
     "data": {
      "text/html": [
       "<table class=\"dataframe\">\n",
       "<caption>A matrix: 3 x 1 of type dbl</caption>\n",
       "<tbody>\n",
       "\t<tr><td> 0.2268988</td></tr>\n",
       "\t<tr><td>-0.7717552</td></tr>\n",
       "\t<tr><td> 1.7678102</td></tr>\n",
       "</tbody>\n",
       "</table>\n"
      ],
      "text/latex": [
       "A matrix: 3 x 1 of type dbl\n",
       "\\begin{tabular}{l}\n",
       "\t  0.2268988\\\\\n",
       "\t -0.7717552\\\\\n",
       "\t  1.7678102\\\\\n",
       "\\end{tabular}\n"
      ],
      "text/markdown": [
       "\n",
       "A matrix: 3 x 1 of type dbl\n",
       "\n",
       "|  0.2268988 |\n",
       "| -0.7717552 |\n",
       "|  1.7678102 |\n",
       "\n"
      ],
      "text/plain": [
       "     [,1]      \n",
       "[1,]  0.2268988\n",
       "[2,] -0.7717552\n",
       "[3,]  1.7678102"
      ]
     },
     "metadata": {},
     "output_type": "display_data"
    }
   ],
   "source": [
    "beta_hat <- solve(t(X) %*% X) %*% t(X) %*% Y\n",
    "beta_hat"
   ]
  },
  {
   "cell_type": "markdown",
   "metadata": {},
   "source": [
    "Here, $\\hat{\\beta}$ is very close to the original $\\beta$."
   ]
  },
  {
   "cell_type": "markdown",
   "metadata": {},
   "source": [
    "2. Calculate the true variance of $\\hat{\\beta}$? (Remember that the variance of $\\hat{\\beta}$ is a $3\\times3$ matrix.) (I say the “true” variance because, in this example,we know the true value of $\\sigma^2$, and so don’t need to estimate it using the residuals.)"
   ]
  },
  {
   "cell_type": "markdown",
   "metadata": {},
   "source": [
    "$Var(\\hat{\\beta})=\\hat{\\sigma}^2(X^TX)^{-1}$"
   ]
  },
  {
   "cell_type": "code",
   "execution_count": 218,
   "metadata": {},
   "outputs": [
    {
     "data": {
      "text/html": [
       "<table class=\"dataframe\">\n",
       "<caption>A matrix: 3 x 3 of type dbl</caption>\n",
       "<tbody>\n",
       "\t<tr><td> 0.139180672</td><td>-0.042016807</td><td>-0.003413866</td></tr>\n",
       "\t<tr><td>-0.042016807</td><td> 0.050420168</td><td>-0.008403361</td></tr>\n",
       "\t<tr><td>-0.003413866</td><td>-0.008403361</td><td> 0.027442227</td></tr>\n",
       "</tbody>\n",
       "</table>\n"
      ],
      "text/latex": [
       "A matrix: 3 x 3 of type dbl\n",
       "\\begin{tabular}{lll}\n",
       "\t  0.139180672 & -0.042016807 & -0.003413866\\\\\n",
       "\t -0.042016807 &  0.050420168 & -0.008403361\\\\\n",
       "\t -0.003413866 & -0.008403361 &  0.027442227\\\\\n",
       "\\end{tabular}\n"
      ],
      "text/markdown": [
       "\n",
       "A matrix: 3 x 3 of type dbl\n",
       "\n",
       "|  0.139180672 | -0.042016807 | -0.003413866 |\n",
       "| -0.042016807 |  0.050420168 | -0.008403361 |\n",
       "| -0.003413866 | -0.008403361 |  0.027442227 |\n",
       "\n"
      ],
      "text/plain": [
       "     [,1]         [,2]         [,3]        \n",
       "[1,]  0.139180672 -0.042016807 -0.003413866\n",
       "[2,] -0.042016807  0.050420168 -0.008403361\n",
       "[3,] -0.003413866 -0.008403361  0.027442227"
      ]
     },
     "metadata": {},
     "output_type": "display_data"
    }
   ],
   "source": [
    "sigma <- 1\n",
    "var_beta_hat <- sigma^2 * solve(t(X) %*% X)\n",
    "var_beta_hat"
   ]
  },
  {
   "cell_type": "markdown",
   "metadata": {},
   "source": [
    "3. Use the residuals to estimate $\\sigma^2$. What do you get?"
   ]
  },
  {
   "cell_type": "markdown",
   "metadata": {},
   "source": [
    "$\\displaystyle \\hat{\\sigma}^2 = \\frac{\\sum_i(y_i-\\hat{y_i})^2}{n-(p+1)}$"
   ]
  },
  {
   "cell_type": "code",
   "execution_count": 219,
   "metadata": {},
   "outputs": [
    {
     "data": {
      "text/html": [
       "1.51704627614275"
      ],
      "text/latex": [
       "1.51704627614275"
      ],
      "text/markdown": [
       "1.51704627614275"
      ],
      "text/plain": [
       "[1] 1.517046"
      ]
     },
     "metadata": {},
     "output_type": "display_data"
    }
   ],
   "source": [
    "delta <- Y - X %*% beta_hat\n",
    "n <- dim(X)[1] # number of data\n",
    "p <- dim(X)[2] - 1 # number of variables\n",
    "estimated_var <- sum(delta^2) / (n - (p + 1))\n",
    "estimated_var"
   ]
  },
  {
   "cell_type": "markdown",
   "metadata": {},
   "source": [
    "After many trials, I found that the result may sometimes be deviated from the actual value 1. However, in general the mean of different trials is very close to 1. This can be seen in question 5."
   ]
  },
  {
   "cell_type": "markdown",
   "metadata": {},
   "source": [
    "4. Now create a new $\\epsilon$ and re-estimate $\\beta$. Do this 1,000 times, and save all the answers in memory. Make a histogram of the 1,000 values of $\\hat{\\beta}_1$. Do the same for $\\hat{\\beta}_2$ and $\\hat{\\beta}_3$. Also calculate the sample variance for each of those three. Do your answers match with question 2?"
   ]
  },
  {
   "cell_type": "code",
   "execution_count": 220,
   "metadata": {},
   "outputs": [],
   "source": [
    "beta_1_list <- c()\n",
    "beta_2_list <- c()\n",
    "beta_3_list <- c()\n",
    "\n",
    "for (i in 1:1000) {\n",
    "  epsilon <- rnorm(10)\n",
    "  Y <- X %*% beta + epsilon\n",
    "  beta_hat <- solve(t(X) %*% X) %*% t(X) %*% Y\n",
    "  beta_1_list <- c(beta_1_list, beta_hat[1])\n",
    "  beta_2_list <- c(beta_2_list, beta_hat[2])\n",
    "  beta_3_list <- c(beta_3_list, beta_hat[3])\n",
    "}"
   ]
  },
  {
   "cell_type": "code",
   "execution_count": 221,
   "metadata": {},
   "outputs": [
    {
     "data": {
      "image/png": "[encoded data removed]",
      "text/plain": [
       "Plot with title \"Histogram of beta_3_list\""
      ]
     },
     "metadata": {
      "image/png": {
       "height": 420,
       "width": 420
      }
     },
     "output_type": "display_data"
    }
   ],
   "source": [
    "# Histograms for \\hat{\\beta}_1,\\hat{\\beta}_2 and \\hat{\\beta}_3\n",
    "par(mfrow = c(1, 3), lwd = 1)\n",
    "hist(beta_1_list)\n",
    "hist(beta_2_list)\n",
    "hist(beta_3_list)"
   ]
  },
  {
   "cell_type": "code",
   "execution_count": 222,
   "metadata": {},
   "outputs": [
    {
     "data": {
      "text/html": [
       "0.142487933562694"
      ],
      "text/latex": [
       "0.142487933562694"
      ],
      "text/markdown": [
       "0.142487933562694"
      ],
      "text/plain": [
       "[1] 0.1424879"
      ]
     },
     "metadata": {},
     "output_type": "display_data"
    },
    {
     "data": {
      "text/html": [
       "0.0493442954625166"
      ],
      "text/latex": [
       "0.0493442954625166"
      ],
      "text/markdown": [
       "0.0493442954625166"
      ],
      "text/plain": [
       "[1] 0.0493443"
      ]
     },
     "metadata": {},
     "output_type": "display_data"
    },
    {
     "data": {
      "text/html": [
       "0.0254204549117858"
      ],
      "text/latex": [
       "0.0254204549117858"
      ],
      "text/markdown": [
       "0.0254204549117858"
      ],
      "text/plain": [
       "[1] 0.02542045"
      ]
     },
     "metadata": {},
     "output_type": "display_data"
    },
    {
     "data": {
      "text/html": [
       "<table class=\"dataframe\">\n",
       "<caption>A matrix: 3 x 3 of type dbl</caption>\n",
       "<tbody>\n",
       "\t<tr><td> 0.139180672</td><td>-0.042016807</td><td>-0.003413866</td></tr>\n",
       "\t<tr><td>-0.042016807</td><td> 0.050420168</td><td>-0.008403361</td></tr>\n",
       "\t<tr><td>-0.003413866</td><td>-0.008403361</td><td> 0.027442227</td></tr>\n",
       "</tbody>\n",
       "</table>\n"
      ],
      "text/latex": [
       "A matrix: 3 x 3 of type dbl\n",
       "\\begin{tabular}{lll}\n",
       "\t  0.139180672 & -0.042016807 & -0.003413866\\\\\n",
       "\t -0.042016807 &  0.050420168 & -0.008403361\\\\\n",
       "\t -0.003413866 & -0.008403361 &  0.027442227\\\\\n",
       "\\end{tabular}\n"
      ],
      "text/markdown": [
       "\n",
       "A matrix: 3 x 3 of type dbl\n",
       "\n",
       "|  0.139180672 | -0.042016807 | -0.003413866 |\n",
       "| -0.042016807 |  0.050420168 | -0.008403361 |\n",
       "| -0.003413866 | -0.008403361 |  0.027442227 |\n",
       "\n"
      ],
      "text/plain": [
       "     [,1]         [,2]         [,3]        \n",
       "[1,]  0.139180672 -0.042016807 -0.003413866\n",
       "[2,] -0.042016807  0.050420168 -0.008403361\n",
       "[3,] -0.003413866 -0.008403361  0.027442227"
      ]
     },
     "metadata": {},
     "output_type": "display_data"
    }
   ],
   "source": [
    "# Sample Variances \\hat{\\beta}_1,\\hat{\\beta}_2 and \\hat{\\beta}_3\n",
    "var(beta_1_list)\n",
    "var(beta_2_list)\n",
    "var(beta_3_list)\n",
    "var_beta_hat"
   ]
  },
  {
   "cell_type": "markdown",
   "metadata": {},
   "source": [
    "The calculated sample variances of $\\hat{\\beta}_1,\\hat{\\beta}_2$ and $\\hat{\\beta}_3$ are actually really close to the values in the diagonal of the variance matrix calculated in question 2."
   ]
  },
  {
   "cell_type": "markdown",
   "metadata": {},
   "source": [
    "5. Once again, re-create $\\epsilon$ 1,000 times. Each time estimate $\\sigma^2$. Make a histogram of your 1,000 values of $\\hat{\\sigma}^2$. Based on the histogram, does it look like $\\hat{\\sigma}^2$ provides a reliable estimate of $\\sigma^2$? Why do you think so?"
   ]
  },
  {
   "cell_type": "code",
   "execution_count": 223,
   "metadata": {},
   "outputs": [],
   "source": [
    "estimated_var_list <- c()\n",
    "for (i in 1:1000) {\n",
    "  # reset epsilon\n",
    "  epsilon <- rnorm(10)\n",
    "  # calculate Y and the corresponding beta_hat\n",
    "  Y <- X %*% beta + epsilon\n",
    "  beta_hat <- solve(t(X) %*% X) %*% t(X) %*% Y\n",
    "  # estimate the sigma^2\n",
    "  delta <- Y - X %*% beta_hat\n",
    "  estimated_var <- sum(delta^2) / (n - (p + 1))\n",
    "  estimated_var_list <- c(estimated_var_list, estimated_var)\n",
    "}"
   ]
  },
  {
   "cell_type": "code",
   "execution_count": 224,
   "metadata": {},
   "outputs": [
    {
     "data": {
      "image/png": "[encoded data removed]",
      "text/plain": [
       "Plot with title \"Histogram of estimated_var_list\""
      ]
     },
     "metadata": {
      "image/png": {
       "height": 420,
       "width": 420
      }
     },
     "output_type": "display_data"
    }
   ],
   "source": [
    "# Histogram for \\hat{\\sigma}^2\n",
    "hist(estimated_var_list, breaks = 20)"
   ]
  },
  {
   "cell_type": "code",
   "execution_count": 225,
   "metadata": {},
   "outputs": [
    {
     "data": {
      "text/html": [
       "0.990308037067878"
      ],
      "text/latex": [
       "0.990308037067878"
      ],
      "text/markdown": [
       "0.990308037067878"
      ],
      "text/plain": [
       "[1] 0.990308"
      ]
     },
     "metadata": {},
     "output_type": "display_data"
    }
   ],
   "source": [
    "mean(estimated_var_list)"
   ]
  },
  {
   "cell_type": "markdown",
   "metadata": {},
   "source": [
    "From the histogram we can see that estimated variances are highly distributed within $[0.5,1]$ and the distribution is right-skewed. However, by calculating the mean of these 1000 estimated variances we can see that the mean is really close to 1. Therefore, I think it still provides a reliable estimate."
   ]
  },
  {
   "cell_type": "markdown",
   "metadata": {},
   "source": [
    "6. Repeat (4) and (5), but instead of using normal distribution for $\\epsilon$ use IID distribution with $P(\\epsilon_i = 1) = 0.5$ and $P(\\epsilon_i = −1) = 0.5$ which also has expectation 0 and variance 1 for each $\\epsilon_i$. Do your answers change much?"
   ]
  },
  {
   "cell_type": "code",
   "execution_count": 226,
   "metadata": {},
   "outputs": [],
   "source": [
    "# Re-initialize the lists for beta1/2/3 and estimated variance\n",
    "beta_1_list <- c()\n",
    "beta_2_list <- c()\n",
    "beta_3_list <- c()\n",
    "estimated_var_list <- c()\n",
    "\n",
    "for (i in 1:1000) {\n",
    "  # reset epsilon\n",
    "  epsilon <- (rbinom(n = 10, size = 1, prob = 0.5) - 0.5) * 2\n",
    "  # calculate Y and the corresponding beta_hat\n",
    "  Y <- X %*% beta + epsilon\n",
    "  beta_hat <- solve(t(X) %*% X) %*% t(X) %*% Y\n",
    "  # estimate the sigma^2\n",
    "  delta <- Y - X %*% beta_hat\n",
    "  estimated_var <- sum(delta^2) / (n - (p + 1))\n",
    "\n",
    "  beta_1_list <- c(beta_1_list, beta_hat[1])\n",
    "  beta_2_list <- c(beta_2_list, beta_hat[2])\n",
    "  beta_3_list <- c(beta_3_list, beta_hat[3])\n",
    "\n",
    "  estimated_var_list <- c(estimated_var_list, estimated_var)\n",
    "}"
   ]
  },
  {
   "cell_type": "code",
   "execution_count": 227,
   "metadata": {},
   "outputs": [
    {
     "data": {
      "image/png": "[encoded data removed]",
      "text/plain": [
       "Plot with title \"Histogram of beta_3_list\""
      ]
     },
     "metadata": {
      "image/png": {
       "height": 420,
       "width": 420
      }
     },
     "output_type": "display_data"
    }
   ],
   "source": [
    "# Histograms for \\hat{\\beta}_1,\\hat{\\beta}_2 and \\hat{\\beta}_3\n",
    "par(mfrow = c(1, 3), lwd = 1)\n",
    "hist(beta_1_list)\n",
    "hist(beta_2_list)\n",
    "hist(beta_3_list)"
   ]
  },
  {
   "cell_type": "code",
   "execution_count": 228,
   "metadata": {},
   "outputs": [
    {
     "data": {
      "text/html": [
       "0.138476799110388"
      ],
      "text/latex": [
       "0.138476799110388"
      ],
      "text/markdown": [
       "0.138476799110388"
      ],
      "text/plain": [
       "[1] 0.1384768"
      ]
     },
     "metadata": {},
     "output_type": "display_data"
    },
    {
     "data": {
      "text/html": [
       "0.0466922565528597"
      ],
      "text/latex": [
       "0.0466922565528597"
      ],
      "text/markdown": [
       "0.0466922565528597"
      ],
      "text/plain": [
       "[1] 0.04669226"
      ]
     },
     "metadata": {},
     "output_type": "display_data"
    },
    {
     "data": {
      "text/html": [
       "0.0273161644140079"
      ],
      "text/latex": [
       "0.0273161644140079"
      ],
      "text/markdown": [
       "0.0273161644140079"
      ],
      "text/plain": [
       "[1] 0.02731616"
      ]
     },
     "metadata": {},
     "output_type": "display_data"
    },
    {
     "data": {
      "text/html": [
       "<table class=\"dataframe\">\n",
       "<caption>A matrix: 3 x 3 of type dbl</caption>\n",
       "<tbody>\n",
       "\t<tr><td> 0.139180672</td><td>-0.042016807</td><td>-0.003413866</td></tr>\n",
       "\t<tr><td>-0.042016807</td><td> 0.050420168</td><td>-0.008403361</td></tr>\n",
       "\t<tr><td>-0.003413866</td><td>-0.008403361</td><td> 0.027442227</td></tr>\n",
       "</tbody>\n",
       "</table>\n"
      ],
      "text/latex": [
       "A matrix: 3 x 3 of type dbl\n",
       "\\begin{tabular}{lll}\n",
       "\t  0.139180672 & -0.042016807 & -0.003413866\\\\\n",
       "\t -0.042016807 &  0.050420168 & -0.008403361\\\\\n",
       "\t -0.003413866 & -0.008403361 &  0.027442227\\\\\n",
       "\\end{tabular}\n"
      ],
      "text/markdown": [
       "\n",
       "A matrix: 3 x 3 of type dbl\n",
       "\n",
       "|  0.139180672 | -0.042016807 | -0.003413866 |\n",
       "| -0.042016807 |  0.050420168 | -0.008403361 |\n",
       "| -0.003413866 | -0.008403361 |  0.027442227 |\n",
       "\n"
      ],
      "text/plain": [
       "     [,1]         [,2]         [,3]        \n",
       "[1,]  0.139180672 -0.042016807 -0.003413866\n",
       "[2,] -0.042016807  0.050420168 -0.008403361\n",
       "[3,] -0.003413866 -0.008403361  0.027442227"
      ]
     },
     "metadata": {},
     "output_type": "display_data"
    }
   ],
   "source": [
    "# Sample Variance for \\hat{\\beta}_1,\\hat{\\beta}_2 and \\hat{\\beta}_3\n",
    "var(beta_1_list)\n",
    "var(beta_2_list)\n",
    "var(beta_3_list)\n",
    "var_beta_hat"
   ]
  },
  {
   "cell_type": "code",
   "execution_count": 229,
   "metadata": {},
   "outputs": [
    {
     "data": {
      "image/png": "[encoded data removed]",
      "text/plain": [
       "Plot with title \"Histogram of estimated_var_list\""
      ]
     },
     "metadata": {
      "image/png": {
       "height": 420,
       "width": 420
      }
     },
     "output_type": "display_data"
    }
   ],
   "source": [
    "# Historgam for \\hat{\\sigma}^2\n",
    "hist(estimated_var_list)"
   ]
  },
  {
   "cell_type": "code",
   "execution_count": 230,
   "metadata": {},
   "outputs": [
    {
     "data": {
      "text/html": [
       "1.01585954381753"
      ],
      "text/latex": [
       "1.01585954381753"
      ],
      "text/markdown": [
       "1.01585954381753"
      ],
      "text/plain": [
       "[1] 1.01586"
      ]
     },
     "metadata": {},
     "output_type": "display_data"
    }
   ],
   "source": [
    "mean(estimated_var_list)"
   ]
  },
  {
   "cell_type": "markdown",
   "metadata": {},
   "source": [
    "Conclusion: We can see that the sample variances and distribution for $\\hat{\\beta}_1,\\hat{\\beta}_2$ and $\\hat{\\beta}_3$ here still match the answers in question 4. However, the distribution for estimating the variances does NOT match the distribution from question 4. The distribution here is left-skewed while the distribution in question 4 is right-skewed. Nevertheless, we can see that both means are very close to 1.\n",
    "\n"
   ]
  },
  {
   "cell_type": "markdown",
   "metadata": {},
   "source": [
    "## Part B (Maximum 3 pages). "
   ]
  },
  {
   "cell_type": "markdown",
   "metadata": {},
   "source": [
    "In the punting data, we find the average distance punted and hang times of 10 punts of an American football as related to various measures of leg strength for 13 volunteers."
   ]
  },
  {
   "cell_type": "code",
   "execution_count": 231,
   "metadata": {},
   "outputs": [
    {
     "data": {
      "text/html": [
       "<table class=\"dataframe\">\n",
       "<caption>A data.frame: 6 x 7</caption>\n",
       "<thead>\n",
       "\t<tr><th></th><th scope=col>Distance</th><th scope=col>Hang</th><th scope=col>RStr</th><th scope=col>LStr</th><th scope=col>RFlex</th><th scope=col>LFlex</th><th scope=col>OStr</th></tr>\n",
       "\t<tr><th></th><th scope=col>&lt;dbl&gt;</th><th scope=col>&lt;dbl&gt;</th><th scope=col>&lt;int&gt;</th><th scope=col>&lt;int&gt;</th><th scope=col>&lt;int&gt;</th><th scope=col>&lt;int&gt;</th><th scope=col>&lt;dbl&gt;</th></tr>\n",
       "</thead>\n",
       "<tbody>\n",
       "\t<tr><th scope=row>1</th><td>162.50</td><td>4.75</td><td>170</td><td>170</td><td>106</td><td>106</td><td>240.57</td></tr>\n",
       "\t<tr><th scope=row>2</th><td>144.00</td><td>4.07</td><td>140</td><td>130</td><td> 92</td><td> 93</td><td>195.49</td></tr>\n",
       "\t<tr><th scope=row>3</th><td>147.50</td><td>4.04</td><td>180</td><td>170</td><td> 93</td><td> 78</td><td>152.99</td></tr>\n",
       "\t<tr><th scope=row>4</th><td>163.50</td><td>4.18</td><td>160</td><td>160</td><td>103</td><td> 93</td><td>197.09</td></tr>\n",
       "\t<tr><th scope=row>5</th><td>192.00</td><td>4.35</td><td>170</td><td>150</td><td>104</td><td> 93</td><td>266.56</td></tr>\n",
       "\t<tr><th scope=row>6</th><td>171.75</td><td>4.16</td><td>150</td><td>150</td><td>101</td><td> 87</td><td>260.56</td></tr>\n",
       "</tbody>\n",
       "</table>\n"
      ],
      "text/latex": [
       "A data.frame: 6 x 7\n",
       "\\begin{tabular}{r|lllllll}\n",
       "  & Distance & Hang & RStr & LStr & RFlex & LFlex & OStr\\\\\n",
       "  & <dbl> & <dbl> & <int> & <int> & <int> & <int> & <dbl>\\\\\n",
       "\\hline\n",
       "\t1 & 162.50 & 4.75 & 170 & 170 & 106 & 106 & 240.57\\\\\n",
       "\t2 & 144.00 & 4.07 & 140 & 130 &  92 &  93 & 195.49\\\\\n",
       "\t3 & 147.50 & 4.04 & 180 & 170 &  93 &  78 & 152.99\\\\\n",
       "\t4 & 163.50 & 4.18 & 160 & 160 & 103 &  93 & 197.09\\\\\n",
       "\t5 & 192.00 & 4.35 & 170 & 150 & 104 &  93 & 266.56\\\\\n",
       "\t6 & 171.75 & 4.16 & 150 & 150 & 101 &  87 & 260.56\\\\\n",
       "\\end{tabular}\n"
      ],
      "text/markdown": [
       "\n",
       "A data.frame: 6 x 7\n",
       "\n",
       "| <!--/--> | Distance &lt;dbl&gt; | Hang &lt;dbl&gt; | RStr &lt;int&gt; | LStr &lt;int&gt; | RFlex &lt;int&gt; | LFlex &lt;int&gt; | OStr &lt;dbl&gt; |\n",
       "|---|---|---|---|---|---|---|---|\n",
       "| 1 | 162.50 | 4.75 | 170 | 170 | 106 | 106 | 240.57 |\n",
       "| 2 | 144.00 | 4.07 | 140 | 130 |  92 |  93 | 195.49 |\n",
       "| 3 | 147.50 | 4.04 | 180 | 170 |  93 |  78 | 152.99 |\n",
       "| 4 | 163.50 | 4.18 | 160 | 160 | 103 |  93 | 197.09 |\n",
       "| 5 | 192.00 | 4.35 | 170 | 150 | 104 |  93 | 266.56 |\n",
       "| 6 | 171.75 | 4.16 | 150 | 150 | 101 |  87 | 260.56 |\n",
       "\n"
      ],
      "text/plain": [
       "  Distance Hang RStr LStr RFlex LFlex OStr  \n",
       "1 162.50   4.75 170  170  106   106   240.57\n",
       "2 144.00   4.07 140  130   92    93   195.49\n",
       "3 147.50   4.04 180  170   93    78   152.99\n",
       "4 163.50   4.18 160  160  103    93   197.09\n",
       "5 192.00   4.35 170  150  104    93   266.56\n",
       "6 171.75   4.16 150  150  101    87   260.56"
      ]
     },
     "metadata": {},
     "output_type": "display_data"
    }
   ],
   "source": [
    "# data initialization\n",
    "data(punting)\n",
    "head(punting)"
   ]
  },
  {
   "cell_type": "markdown",
   "metadata": {},
   "source": [
    "1. Fit a regression model with Distance as the response and the right and left leg strengths and flexibilities as predictors. Which predictors\n",
    "are significant at the $\\alpha = 0.05$ level?"
   ]
  },
  {
   "cell_type": "code",
   "execution_count": 232,
   "metadata": {},
   "outputs": [
    {
     "data": {
      "text/plain": [
       "\n",
       "Call:\n",
       "lm(formula = Distance ~ RStr + LStr + RFlex + LFlex, data = punting)\n",
       "\n",
       "Residuals:\n",
       "    Min      1Q  Median      3Q     Max \n",
       "-23.941  -8.958  -4.441  13.523  17.016 \n",
       "\n",
       "Coefficients:\n",
       "            Estimate Std. Error t value Pr(>|t|)\n",
       "(Intercept) -79.6236    65.5935  -1.214    0.259\n",
       "RStr          0.5116     0.4856   1.054    0.323\n",
       "LStr         -0.1862     0.5130  -0.363    0.726\n",
       "RFlex         2.3745     1.4374   1.652    0.137\n",
       "LFlex        -0.5277     0.8255  -0.639    0.541\n",
       "\n",
       "Residual standard error: 16.33 on 8 degrees of freedom\n",
       "Multiple R-squared:  0.7365,\tAdjusted R-squared:  0.6047 \n",
       "F-statistic:  5.59 on 4 and 8 DF,  p-value: 0.01902\n"
      ]
     },
     "metadata": {},
     "output_type": "display_data"
    }
   ],
   "source": [
    "regre_model <- lm(Distance ~ RStr + LStr + RFlex + LFlex, data = punting)\n",
    "summary(regre_model)"
   ]
  },
  {
   "cell_type": "markdown",
   "metadata": {},
   "source": [
    "From the summary above we can see that the $p$-values for all variables are larger than 0.05. So we can conclude that NO predictors are significant at the $\\alpha=0.05$ level."
   ]
  },
  {
   "cell_type": "markdown",
   "metadata": {},
   "source": [
    "2. Use an F-test to determine whether collectively these four predictors have a relationship to the response."
   ]
  },
  {
   "cell_type": "markdown",
   "metadata": {},
   "source": [
    "Firstly set up the $H_0$ and $H_A$ for the $F$-test:\\\n",
    "$H_0$: $\\beta_{RStr}=\\beta_{LStr}=\\beta_{RFlex}=\\beta_{LFlex}=0$\\\n",
    "$H_A$: At least 1 of them are not zero."
   ]
  },
  {
   "cell_type": "code",
   "execution_count": 233,
   "metadata": {},
   "outputs": [
    {
     "data": {
      "text/html": [
       "<table class=\"dataframe\">\n",
       "<caption>A anova: 2 x 6</caption>\n",
       "<thead>\n",
       "\t<tr><th></th><th scope=col>Res.Df</th><th scope=col>RSS</th><th scope=col>Df</th><th scope=col>Sum of Sq</th><th scope=col>F</th><th scope=col>Pr(&gt;F)</th></tr>\n",
       "\t<tr><th></th><th scope=col>&lt;dbl&gt;</th><th scope=col>&lt;dbl&gt;</th><th scope=col>&lt;dbl&gt;</th><th scope=col>&lt;dbl&gt;</th><th scope=col>&lt;dbl&gt;</th><th scope=col>&lt;dbl&gt;</th></tr>\n",
       "</thead>\n",
       "<tbody>\n",
       "\t<tr><th scope=row>1</th><td>12</td><td>8093.308</td><td>NA</td><td>      NA</td><td>      NA</td><td>        NA</td></tr>\n",
       "\t<tr><th scope=row>2</th><td> 8</td><td>2132.641</td><td> 4</td><td>5960.668</td><td>5.589941</td><td>0.01902482</td></tr>\n",
       "</tbody>\n",
       "</table>\n"
      ],
      "text/latex": [
       "A anova: 2 x 6\n",
       "\\begin{tabular}{r|llllll}\n",
       "  & Res.Df & RSS & Df & Sum of Sq & F & Pr(>F)\\\\\n",
       "  & <dbl> & <dbl> & <dbl> & <dbl> & <dbl> & <dbl>\\\\\n",
       "\\hline\n",
       "\t1 & 12 & 8093.308 & NA &       NA &       NA &         NA\\\\\n",
       "\t2 &  8 & 2132.641 &  4 & 5960.668 & 5.589941 & 0.01902482\\\\\n",
       "\\end{tabular}\n"
      ],
      "text/markdown": [
       "\n",
       "A anova: 2 x 6\n",
       "\n",
       "| <!--/--> | Res.Df &lt;dbl&gt; | RSS &lt;dbl&gt; | Df &lt;dbl&gt; | Sum of Sq &lt;dbl&gt; | F &lt;dbl&gt; | Pr(&gt;F) &lt;dbl&gt; |\n",
       "|---|---|---|---|---|---|---|\n",
       "| 1 | 12 | 8093.308 | NA |       NA |       NA |         NA |\n",
       "| 2 |  8 | 2132.641 |  4 | 5960.668 | 5.589941 | 0.01902482 |\n",
       "\n"
      ],
      "text/plain": [
       "  Res.Df RSS      Df Sum of Sq F        Pr(>F)    \n",
       "1 12     8093.308 NA       NA        NA         NA\n",
       "2  8     2132.641  4 5960.668  5.589941 0.01902482"
      ]
     },
     "metadata": {},
     "output_type": "display_data"
    }
   ],
   "source": [
    "# model under H_0\n",
    "h0 <- lm(Distance ~ 1, data = punting)\n",
    "\n",
    "# model under H_0A\n",
    "h0a <- lm(Distance ~ RStr + LStr + RFlex + LFlex, data = punting)\n",
    "\n",
    "# compare two models\n",
    "anova(h0, h0a)"
   ]
  },
  {
   "cell_type": "markdown",
   "metadata": {},
   "source": [
    "We can see that the $p$-value here (0.01902482) is smaller than $\\alpha=0.05$, so we can reject $H_0$. We can say that these four predictors might have relationships with the response."
   ]
  },
  {
   "cell_type": "markdown",
   "metadata": {},
   "source": [
    "3. Relative to the model in question 1, test whether the right and left leg strengths have the same effect."
   ]
  },
  {
   "cell_type": "markdown",
   "metadata": {},
   "source": [
    "Firstly set up the $H_0$ and $H_A$ for the $F$-test:\\\n",
    "$H_0$: $\\beta_{RStr}=\\beta_{LStr}$\\\n",
    "$H_A$: $\\beta_{RStr}\\ne \\beta_{LStr}$"
   ]
  },
  {
   "cell_type": "code",
   "execution_count": 234,
   "metadata": {},
   "outputs": [
    {
     "data": {
      "text/html": [
       "<table class=\"dataframe\">\n",
       "<caption>A anova: 2 x 6</caption>\n",
       "<thead>\n",
       "\t<tr><th></th><th scope=col>Res.Df</th><th scope=col>RSS</th><th scope=col>Df</th><th scope=col>Sum of Sq</th><th scope=col>F</th><th scope=col>Pr(&gt;F)</th></tr>\n",
       "\t<tr><th></th><th scope=col>&lt;dbl&gt;</th><th scope=col>&lt;dbl&gt;</th><th scope=col>&lt;dbl&gt;</th><th scope=col>&lt;dbl&gt;</th><th scope=col>&lt;dbl&gt;</th><th scope=col>&lt;dbl&gt;</th></tr>\n",
       "</thead>\n",
       "<tbody>\n",
       "\t<tr><th scope=row>1</th><td>9</td><td>2287.356</td><td>NA</td><td>      NA</td><td>       NA</td><td>       NA</td></tr>\n",
       "\t<tr><th scope=row>2</th><td>8</td><td>2132.641</td><td> 1</td><td>154.7151</td><td>0.5803702</td><td>0.4680292</td></tr>\n",
       "</tbody>\n",
       "</table>\n"
      ],
      "text/latex": [
       "A anova: 2 x 6\n",
       "\\begin{tabular}{r|llllll}\n",
       "  & Res.Df & RSS & Df & Sum of Sq & F & Pr(>F)\\\\\n",
       "  & <dbl> & <dbl> & <dbl> & <dbl> & <dbl> & <dbl>\\\\\n",
       "\\hline\n",
       "\t1 & 9 & 2287.356 & NA &       NA &        NA &        NA\\\\\n",
       "\t2 & 8 & 2132.641 &  1 & 154.7151 & 0.5803702 & 0.4680292\\\\\n",
       "\\end{tabular}\n"
      ],
      "text/markdown": [
       "\n",
       "A anova: 2 x 6\n",
       "\n",
       "| <!--/--> | Res.Df &lt;dbl&gt; | RSS &lt;dbl&gt; | Df &lt;dbl&gt; | Sum of Sq &lt;dbl&gt; | F &lt;dbl&gt; | Pr(&gt;F) &lt;dbl&gt; |\n",
       "|---|---|---|---|---|---|---|\n",
       "| 1 | 9 | 2287.356 | NA |       NA |        NA |        NA |\n",
       "| 2 | 8 | 2132.641 |  1 | 154.7151 | 0.5803702 | 0.4680292 |\n",
       "\n"
      ],
      "text/plain": [
       "  Res.Df RSS      Df Sum of Sq F         Pr(>F)   \n",
       "1 9      2287.356 NA       NA         NA        NA\n",
       "2 8      2132.641  1 154.7151  0.5803702 0.4680292"
      ]
     },
     "metadata": {},
     "output_type": "display_data"
    }
   ],
   "source": [
    "# model under H_0\n",
    "h0 <- lm(Distance ~ I(RStr + LStr) + RFlex + LFlex, data = punting)\n",
    "\n",
    "# model under H_0A\n",
    "h0a <- lm(Distance ~ RStr + LStr + RFlex + LFlex, data = punting)\n",
    "\n",
    "# compare two models\n",
    "anova(h0, h0a)"
   ]
  },
  {
   "cell_type": "markdown",
   "metadata": {},
   "source": [
    "The $p$-value here (0.4680292) is larger than $\\alpha=0.05$. So we only can say that we do NOT have sufficient evidence to support that the right and left leg strengths have different effects."
   ]
  },
  {
   "cell_type": "markdown",
   "metadata": {},
   "source": [
    "4. Relative to the model in question 1, test whether the right and left leg flexibilities have the same effect."
   ]
  },
  {
   "cell_type": "markdown",
   "metadata": {},
   "source": [
    "Firstly set up the $H_0$ and $H_A$ for the $F$-test:\\\n",
    "$H_0$: $\\beta_{RFlex}=\\beta_{LFlex}$\\\n",
    "$H_A$: $\\beta_{RFlex}\\ne\\beta_{LFlex}$"
   ]
  },
  {
   "cell_type": "code",
   "execution_count": 235,
   "metadata": {},
   "outputs": [
    {
     "data": {
      "text/html": [
       "<table class=\"dataframe\">\n",
       "<caption>A anova: 2 x 6</caption>\n",
       "<thead>\n",
       "\t<tr><th></th><th scope=col>Res.Df</th><th scope=col>RSS</th><th scope=col>Df</th><th scope=col>Sum of Sq</th><th scope=col>F</th><th scope=col>Pr(&gt;F)</th></tr>\n",
       "\t<tr><th></th><th scope=col>&lt;dbl&gt;</th><th scope=col>&lt;dbl&gt;</th><th scope=col>&lt;dbl&gt;</th><th scope=col>&lt;dbl&gt;</th><th scope=col>&lt;dbl&gt;</th><th scope=col>&lt;dbl&gt;</th></tr>\n",
       "</thead>\n",
       "<tbody>\n",
       "\t<tr><th scope=row>1</th><td>9</td><td>2648.358</td><td>NA</td><td>      NA</td><td>      NA</td><td>       NA</td></tr>\n",
       "\t<tr><th scope=row>2</th><td>8</td><td>2132.641</td><td> 1</td><td>515.7173</td><td>1.934568</td><td>0.2017235</td></tr>\n",
       "</tbody>\n",
       "</table>\n"
      ],
      "text/latex": [
       "A anova: 2 x 6\n",
       "\\begin{tabular}{r|llllll}\n",
       "  & Res.Df & RSS & Df & Sum of Sq & F & Pr(>F)\\\\\n",
       "  & <dbl> & <dbl> & <dbl> & <dbl> & <dbl> & <dbl>\\\\\n",
       "\\hline\n",
       "\t1 & 9 & 2648.358 & NA &       NA &       NA &        NA\\\\\n",
       "\t2 & 8 & 2132.641 &  1 & 515.7173 & 1.934568 & 0.2017235\\\\\n",
       "\\end{tabular}\n"
      ],
      "text/markdown": [
       "\n",
       "A anova: 2 x 6\n",
       "\n",
       "| <!--/--> | Res.Df &lt;dbl&gt; | RSS &lt;dbl&gt; | Df &lt;dbl&gt; | Sum of Sq &lt;dbl&gt; | F &lt;dbl&gt; | Pr(&gt;F) &lt;dbl&gt; |\n",
       "|---|---|---|---|---|---|---|\n",
       "| 1 | 9 | 2648.358 | NA |       NA |       NA |        NA |\n",
       "| 2 | 8 | 2132.641 |  1 | 515.7173 | 1.934568 | 0.2017235 |\n",
       "\n"
      ],
      "text/plain": [
       "  Res.Df RSS      Df Sum of Sq F        Pr(>F)   \n",
       "1 9      2648.358 NA       NA        NA        NA\n",
       "2 8      2132.641  1 515.7173  1.934568 0.2017235"
      ]
     },
     "metadata": {},
     "output_type": "display_data"
    }
   ],
   "source": [
    "# model under H_0\n",
    "h0 <- lm(Distance ~ RStr + LStr + I(RFlex + LFlex), data = punting)\n",
    "\n",
    "# model under H_0A\n",
    "h0a <- lm(Distance ~ RStr + LStr + RFlex + LFlex, data = punting)\n",
    "\n",
    "# compare two models\n",
    "anova(h0, h0a)"
   ]
  },
  {
   "cell_type": "markdown",
   "metadata": {},
   "source": [
    "The $p$-value here (0.2017235) is larger than $\\alpha=0.05$. So we only can say that we do NOT have sufficient evidence to support that the right and left leg flexibilities have different effects."
   ]
  },
  {
   "cell_type": "markdown",
   "metadata": {},
   "source": [
    "5. Test for left-right symmetry by testing the hypotheses in question 3 and 4 simultaneously."
   ]
  },
  {
   "cell_type": "markdown",
   "metadata": {},
   "source": [
    "Firstly set up the $H_0$ and $H_A$ for the $F$-test:\\\n",
    "$H_0$: $\\beta_{RStr}=\\beta_{LStr}$ and $\\beta_{RFlex}=\\beta_{LFlex}$\\\n",
    "$H_A$: $\\beta_{RStr}\\ne\\beta_{LStr}$ or $\\beta_{RFlex}\\ne\\beta_{LFlex}$"
   ]
  },
  {
   "cell_type": "code",
   "execution_count": 236,
   "metadata": {},
   "outputs": [
    {
     "data": {
      "text/html": [
       "<table class=\"dataframe\">\n",
       "<caption>A anova: 2 x 6</caption>\n",
       "<thead>\n",
       "\t<tr><th></th><th scope=col>Res.Df</th><th scope=col>RSS</th><th scope=col>Df</th><th scope=col>Sum of Sq</th><th scope=col>F</th><th scope=col>Pr(&gt;F)</th></tr>\n",
       "\t<tr><th></th><th scope=col>&lt;dbl&gt;</th><th scope=col>&lt;dbl&gt;</th><th scope=col>&lt;dbl&gt;</th><th scope=col>&lt;dbl&gt;</th><th scope=col>&lt;dbl&gt;</th><th scope=col>&lt;dbl&gt;</th></tr>\n",
       "</thead>\n",
       "<tbody>\n",
       "\t<tr><th scope=row>1</th><td>10</td><td>2799.075</td><td>NA</td><td>      NA</td><td>      NA</td><td>       NA</td></tr>\n",
       "\t<tr><th scope=row>2</th><td> 8</td><td>2132.641</td><td> 2</td><td>666.4339</td><td>1.249969</td><td>0.3369868</td></tr>\n",
       "</tbody>\n",
       "</table>\n"
      ],
      "text/latex": [
       "A anova: 2 x 6\n",
       "\\begin{tabular}{r|llllll}\n",
       "  & Res.Df & RSS & Df & Sum of Sq & F & Pr(>F)\\\\\n",
       "  & <dbl> & <dbl> & <dbl> & <dbl> & <dbl> & <dbl>\\\\\n",
       "\\hline\n",
       "\t1 & 10 & 2799.075 & NA &       NA &       NA &        NA\\\\\n",
       "\t2 &  8 & 2132.641 &  2 & 666.4339 & 1.249969 & 0.3369868\\\\\n",
       "\\end{tabular}\n"
      ],
      "text/markdown": [
       "\n",
       "A anova: 2 x 6\n",
       "\n",
       "| <!--/--> | Res.Df &lt;dbl&gt; | RSS &lt;dbl&gt; | Df &lt;dbl&gt; | Sum of Sq &lt;dbl&gt; | F &lt;dbl&gt; | Pr(&gt;F) &lt;dbl&gt; |\n",
       "|---|---|---|---|---|---|---|\n",
       "| 1 | 10 | 2799.075 | NA |       NA |       NA |        NA |\n",
       "| 2 |  8 | 2132.641 |  2 | 666.4339 | 1.249969 | 0.3369868 |\n",
       "\n"
      ],
      "text/plain": [
       "  Res.Df RSS      Df Sum of Sq F        Pr(>F)   \n",
       "1 10     2799.075 NA       NA        NA        NA\n",
       "2  8     2132.641  2 666.4339  1.249969 0.3369868"
      ]
     },
     "metadata": {},
     "output_type": "display_data"
    }
   ],
   "source": [
    "# model under H_0\n",
    "h0 <- lm(Distance ~ I(RStr + LStr) + I(RFlex + LFlex), data = punting)\n",
    "\n",
    "# model under H_0A\n",
    "h0a <- lm(Distance ~ RStr + LStr + RFlex + LFlex, data = punting)\n",
    "\n",
    "# compare two models\n",
    "anova(h0, h0a)"
   ]
  },
  {
   "cell_type": "markdown",
   "metadata": {},
   "source": [
    "The $p$-value here (0.3369868) is larger than $\\alpha=0.05$. So we only can say that we do NOT have sufficient evidence to support that the left-right asymmetry."
   ]
  },
  {
   "cell_type": "markdown",
   "metadata": {},
   "source": [
    "6. Fit a model with Hang as the response and the same four predictors. Can we make a test to compare this model to that used in question 1? Explain"
   ]
  },
  {
   "cell_type": "code",
   "execution_count": 237,
   "metadata": {},
   "outputs": [
    {
     "data": {
      "text/plain": [
       "\n",
       "Call:\n",
       "lm(formula = Hang ~ RStr + LStr + RFlex + LFlex, data = punting)\n",
       "\n",
       "Residuals:\n",
       "     Min       1Q   Median       3Q      Max \n",
       "-0.36297 -0.13528 -0.07849  0.09938  0.35893 \n",
       "\n",
       "Coefficients:\n",
       "             Estimate Std. Error t value Pr(>|t|)\n",
       "(Intercept) -0.225239   1.032784  -0.218    0.833\n",
       "RStr         0.005153   0.007645   0.674    0.519\n",
       "LStr         0.007697   0.008077   0.953    0.369\n",
       "RFlex        0.019404   0.022631   0.857    0.416\n",
       "LFlex        0.004614   0.012998   0.355    0.732\n",
       "\n",
       "Residual standard error: 0.2571 on 8 degrees of freedom\n",
       "Multiple R-squared:  0.8156,\tAdjusted R-squared:  0.7235 \n",
       "F-statistic: 8.848 on 4 and 8 DF,  p-value: 0.004925\n"
      ]
     },
     "metadata": {},
     "output_type": "display_data"
    }
   ],
   "source": [
    "regre_hang_model <- lm(Hang ~ RStr + LStr + RFlex + LFlex, data = punting)\n",
    "summary(regre_hang_model)"
   ]
  },
  {
   "cell_type": "markdown",
   "metadata": {},
   "source": [
    "From the summary we can see that these four predictors are also not significant because all $p$-values are larger than 0.05. Besides, I do NOT think we can make a F-test to compare two models. F-test is targeting at the linear models with different predictors (or different hypothesises). However, we have different response variables in these two models, that means each model is not “nested” in the other one. Therefore, we CANNOT make a F-test for comparison purpose."
   ]
  },
  {
   "cell_type": "markdown",
   "metadata": {},
   "source": [
    "## Part C (Maximum 3 pages)."
   ]
  },
  {
   "cell_type": "markdown",
   "metadata": {},
   "source": [
    "Using the sat data (see help(sat) for the description of variables):"
   ]
  },
  {
   "cell_type": "code",
   "execution_count": 238,
   "metadata": {},
   "outputs": [
    {
     "data": {
      "text/html": [
       "<table class=\"dataframe\">\n",
       "<caption>A data.frame: 6 x 7</caption>\n",
       "<thead>\n",
       "\t<tr><th></th><th scope=col>expend</th><th scope=col>ratio</th><th scope=col>salary</th><th scope=col>takers</th><th scope=col>verbal</th><th scope=col>math</th><th scope=col>total</th></tr>\n",
       "\t<tr><th></th><th scope=col>&lt;dbl&gt;</th><th scope=col>&lt;dbl&gt;</th><th scope=col>&lt;dbl&gt;</th><th scope=col>&lt;int&gt;</th><th scope=col>&lt;int&gt;</th><th scope=col>&lt;int&gt;</th><th scope=col>&lt;int&gt;</th></tr>\n",
       "</thead>\n",
       "<tbody>\n",
       "\t<tr><th scope=row>Alabama</th><td>4.405</td><td>17.2</td><td>31.144</td><td> 8</td><td>491</td><td>538</td><td>1029</td></tr>\n",
       "\t<tr><th scope=row>Alaska</th><td>8.963</td><td>17.6</td><td>47.951</td><td>47</td><td>445</td><td>489</td><td> 934</td></tr>\n",
       "\t<tr><th scope=row>Arizona</th><td>4.778</td><td>19.3</td><td>32.175</td><td>27</td><td>448</td><td>496</td><td> 944</td></tr>\n",
       "\t<tr><th scope=row>Arkansas</th><td>4.459</td><td>17.1</td><td>28.934</td><td> 6</td><td>482</td><td>523</td><td>1005</td></tr>\n",
       "\t<tr><th scope=row>California</th><td>4.992</td><td>24.0</td><td>41.078</td><td>45</td><td>417</td><td>485</td><td> 902</td></tr>\n",
       "\t<tr><th scope=row>Colorado</th><td>5.443</td><td>18.4</td><td>34.571</td><td>29</td><td>462</td><td>518</td><td> 980</td></tr>\n",
       "</tbody>\n",
       "</table>\n"
      ],
      "text/latex": [
       "A data.frame: 6 x 7\n",
       "\\begin{tabular}{r|lllllll}\n",
       "  & expend & ratio & salary & takers & verbal & math & total\\\\\n",
       "  & <dbl> & <dbl> & <dbl> & <int> & <int> & <int> & <int>\\\\\n",
       "\\hline\n",
       "\tAlabama & 4.405 & 17.2 & 31.144 &  8 & 491 & 538 & 1029\\\\\n",
       "\tAlaska & 8.963 & 17.6 & 47.951 & 47 & 445 & 489 &  934\\\\\n",
       "\tArizona & 4.778 & 19.3 & 32.175 & 27 & 448 & 496 &  944\\\\\n",
       "\tArkansas & 4.459 & 17.1 & 28.934 &  6 & 482 & 523 & 1005\\\\\n",
       "\tCalifornia & 4.992 & 24.0 & 41.078 & 45 & 417 & 485 &  902\\\\\n",
       "\tColorado & 5.443 & 18.4 & 34.571 & 29 & 462 & 518 &  980\\\\\n",
       "\\end{tabular}\n"
      ],
      "text/markdown": [
       "\n",
       "A data.frame: 6 x 7\n",
       "\n",
       "| <!--/--> | expend &lt;dbl&gt; | ratio &lt;dbl&gt; | salary &lt;dbl&gt; | takers &lt;int&gt; | verbal &lt;int&gt; | math &lt;int&gt; | total &lt;int&gt; |\n",
       "|---|---|---|---|---|---|---|---|\n",
       "| Alabama | 4.405 | 17.2 | 31.144 |  8 | 491 | 538 | 1029 |\n",
       "| Alaska | 8.963 | 17.6 | 47.951 | 47 | 445 | 489 |  934 |\n",
       "| Arizona | 4.778 | 19.3 | 32.175 | 27 | 448 | 496 |  944 |\n",
       "| Arkansas | 4.459 | 17.1 | 28.934 |  6 | 482 | 523 | 1005 |\n",
       "| California | 4.992 | 24.0 | 41.078 | 45 | 417 | 485 |  902 |\n",
       "| Colorado | 5.443 | 18.4 | 34.571 | 29 | 462 | 518 |  980 |\n",
       "\n"
      ],
      "text/plain": [
       "           expend ratio salary takers verbal math total\n",
       "Alabama    4.405  17.2  31.144  8     491    538  1029 \n",
       "Alaska     8.963  17.6  47.951 47     445    489   934 \n",
       "Arizona    4.778  19.3  32.175 27     448    496   944 \n",
       "Arkansas   4.459  17.1  28.934  6     482    523  1005 \n",
       "California 4.992  24.0  41.078 45     417    485   902 \n",
       "Colorado   5.443  18.4  34.571 29     462    518   980 "
      ]
     },
     "metadata": {},
     "output_type": "display_data"
    }
   ],
   "source": [
    "# data initialization\n",
    "data(sat)\n",
    "head(sat)"
   ]
  },
  {
   "cell_type": "markdown",
   "metadata": {},
   "source": [
    "1. Fit a linear regression model with total sat score as the response and takers, ratio and salary as predictors. Using this model, answer the questions 2-5:"
   ]
  },
  {
   "cell_type": "code",
   "execution_count": 239,
   "metadata": {},
   "outputs": [
    {
     "data": {
      "text/plain": [
       "\n",
       "Call:\n",
       "lm(formula = total ~ takers + ratio + salary, data = sat)\n",
       "\n",
       "Residuals:\n",
       "    Min      1Q  Median      3Q     Max \n",
       "-89.244 -21.485  -0.798  17.685  68.262 \n",
       "\n",
       "Coefficients:\n",
       "             Estimate Std. Error t value Pr(>|t|)    \n",
       "(Intercept) 1057.8982    44.3287  23.865   <2e-16 ***\n",
       "takers        -2.9134     0.2282 -12.764   <2e-16 ***\n",
       "ratio         -4.6394     2.1215  -2.187   0.0339 *  \n",
       "salary         2.5525     1.0045   2.541   0.0145 *  \n",
       "---\n",
       "Signif. codes:  0 '***' 0.001 '**' 0.01 '*' 0.05 '.' 0.1 ' ' 1\n",
       "\n",
       "Residual standard error: 32.41 on 46 degrees of freedom\n",
       "Multiple R-squared:  0.8239,\tAdjusted R-squared:  0.8124 \n",
       "F-statistic: 71.72 on 3 and 46 DF,  p-value: < 2.2e-16\n"
      ]
     },
     "metadata": {},
     "output_type": "display_data"
    }
   ],
   "source": [
    "sat_model <- lm(total ~ takers + ratio + salary, data = sat)\n",
    "summary(sat_model)"
   ]
  },
  {
   "cell_type": "markdown",
   "metadata": {},
   "source": [
    "2. Suppose you wish to claim that teachers’ salary has a positive effect on the SAT scores. State the appropriate null and alternative hypothesis, the test statistic, the $p$-value, and your conclusion at significance level $\\alpha = 0.01$."
   ]
  },
  {
   "cell_type": "markdown",
   "metadata": {},
   "source": [
    "Firstly set up the $H_0$ and $H_A$ for the $F$-test:\\\n",
    "$H_0$: $\\beta_{salary}\\le0$\\\n",
    "$H_A$: $\\beta_{salary}>0$\\\n",
    "Calculation from previous output: $\\frac{\\hat{\\beta_{salary}}}{\\hat{se}(\\beta_{salary})}=\\frac{2.5525}{1.0045}=2.5411$\\\n",
    "One-side test: $P(t_{46}\\ge 2.5411)$"
   ]
  },
  {
   "cell_type": "code",
   "execution_count": 240,
   "metadata": {},
   "outputs": [
    {
     "data": {
      "text/html": [
       "0.00724362487087671"
      ],
      "text/latex": [
       "0.00724362487087671"
      ],
      "text/markdown": [
       "0.00724362487087671"
      ],
      "text/plain": [
       "[1] 0.007243625"
      ]
     },
     "metadata": {},
     "output_type": "display_data"
    }
   ],
   "source": [
    "1 - pt(2.5411, df = 46)"
   ]
  },
  {
   "cell_type": "markdown",
   "metadata": {},
   "source": [
    "Here, the $p$-value is 0.00724362487087671, which is smaller than $\\alpha=0.01$. So we can reject $H_0$, and claim that teachers’ salary has a positive effect on the SAT scores."
   ]
  },
  {
   "cell_type": "markdown",
   "metadata": {},
   "source": [
    "3. Test the hypothesis $\\beta_{takers} = \\beta_{ratio} = \\beta_{salary} = 0$. Explain in words what this hypothesis means."
   ]
  },
  {
   "cell_type": "markdown",
   "metadata": {},
   "source": [
    "Firstly set up the $H_0$ and $H_A$ for the $F$-test:\\\n",
    "$H_0$: $\\beta_{takers}=\\beta_{ratio}=\\beta_{salary}=0$\\\n",
    "$H_A$: not $H_0$"
   ]
  },
  {
   "cell_type": "code",
   "execution_count": 241,
   "metadata": {},
   "outputs": [
    {
     "data": {
      "text/html": [
       "<table class=\"dataframe\">\n",
       "<caption>A anova: 2 x 6</caption>\n",
       "<thead>\n",
       "\t<tr><th></th><th scope=col>Res.Df</th><th scope=col>RSS</th><th scope=col>Df</th><th scope=col>Sum of Sq</th><th scope=col>F</th><th scope=col>Pr(&gt;F)</th></tr>\n",
       "\t<tr><th></th><th scope=col>&lt;dbl&gt;</th><th scope=col>&lt;dbl&gt;</th><th scope=col>&lt;dbl&gt;</th><th scope=col>&lt;dbl&gt;</th><th scope=col>&lt;dbl&gt;</th><th scope=col>&lt;dbl&gt;</th></tr>\n",
       "</thead>\n",
       "<tbody>\n",
       "\t<tr><th scope=row>1</th><td>49</td><td>274307.68</td><td>NA</td><td>      NA</td><td>      NA</td><td>          NA</td></tr>\n",
       "\t<tr><th scope=row>2</th><td>46</td><td> 48315.37</td><td> 3</td><td>225992.3</td><td>71.72077</td><td>2.262752e-17</td></tr>\n",
       "</tbody>\n",
       "</table>\n"
      ],
      "text/latex": [
       "A anova: 2 x 6\n",
       "\\begin{tabular}{r|llllll}\n",
       "  & Res.Df & RSS & Df & Sum of Sq & F & Pr(>F)\\\\\n",
       "  & <dbl> & <dbl> & <dbl> & <dbl> & <dbl> & <dbl>\\\\\n",
       "\\hline\n",
       "\t1 & 49 & 274307.68 & NA &       NA &       NA &           NA\\\\\n",
       "\t2 & 46 &  48315.37 &  3 & 225992.3 & 71.72077 & 2.262752e-17\\\\\n",
       "\\end{tabular}\n"
      ],
      "text/markdown": [
       "\n",
       "A anova: 2 x 6\n",
       "\n",
       "| <!--/--> | Res.Df &lt;dbl&gt; | RSS &lt;dbl&gt; | Df &lt;dbl&gt; | Sum of Sq &lt;dbl&gt; | F &lt;dbl&gt; | Pr(&gt;F) &lt;dbl&gt; |\n",
       "|---|---|---|---|---|---|---|\n",
       "| 1 | 49 | 274307.68 | NA |       NA |       NA |           NA |\n",
       "| 2 | 46 |  48315.37 |  3 | 225992.3 | 71.72077 | 2.262752e-17 |\n",
       "\n"
      ],
      "text/plain": [
       "  Res.Df RSS       Df Sum of Sq F        Pr(>F)      \n",
       "1 49     274307.68 NA       NA        NA           NA\n",
       "2 46      48315.37  3 225992.3  71.72077 2.262752e-17"
      ]
     },
     "metadata": {},
     "output_type": "display_data"
    }
   ],
   "source": [
    "# model under H_0\n",
    "h0 <- lm(total ~ 1, data = sat)\n",
    "\n",
    "# model under H_0A\n",
    "h0a <- lm(total ~ takers + ratio + salary, data = sat)\n",
    "\n",
    "# compare two models\n",
    "anova(h0, h0a)"
   ]
  },
  {
   "cell_type": "markdown",
   "metadata": {},
   "source": [
    "The $p$-value here (2.262752e-17) is smaller than 0.05 (even much smaller than 0.01), so we can reject $H_0$. We can say that these three predictors might have relationships with the response. We can also say that at least one coefficient of three predictors is not zero."
   ]
  },
  {
   "cell_type": "markdown",
   "metadata": {},
   "source": [
    "4. Compute the 95% and 99% CIs for the parameter associated with salary. Using just these intervals, what can we deduce about the $p$-value for salary in the regression summary?"
   ]
  },
  {
   "cell_type": "code",
   "execution_count": 242,
   "metadata": {},
   "outputs": [
    {
     "data": {
      "text/html": [
       "<table class=\"dataframe\">\n",
       "<caption>A matrix: 1 x 2 of type dbl</caption>\n",
       "<thead>\n",
       "\t<tr><th></th><th scope=col>2.5 %</th><th scope=col>97.5 %</th></tr>\n",
       "</thead>\n",
       "<tbody>\n",
       "\t<tr><th scope=row>salary</th><td>0.5304797</td><td>4.574461</td></tr>\n",
       "</tbody>\n",
       "</table>\n"
      ],
      "text/latex": [
       "A matrix: 1 x 2 of type dbl\n",
       "\\begin{tabular}{r|ll}\n",
       "  & 2.5 \\% & 97.5 \\%\\\\\n",
       "\\hline\n",
       "\tsalary & 0.5304797 & 4.574461\\\\\n",
       "\\end{tabular}\n"
      ],
      "text/markdown": [
       "\n",
       "A matrix: 1 x 2 of type dbl\n",
       "\n",
       "| <!--/--> | 2.5 % | 97.5 % |\n",
       "|---|---|---|\n",
       "| salary | 0.5304797 | 4.574461 |\n",
       "\n"
      ],
      "text/plain": [
       "       2.5 %     97.5 %  \n",
       "salary 0.5304797 4.574461"
      ]
     },
     "metadata": {},
     "output_type": "display_data"
    },
    {
     "data": {
      "text/html": [
       "<table class=\"dataframe\">\n",
       "<caption>A matrix: 1 x 2 of type dbl</caption>\n",
       "<thead>\n",
       "\t<tr><th></th><th scope=col>0.5 %</th><th scope=col>99.5 %</th></tr>\n",
       "</thead>\n",
       "<tbody>\n",
       "\t<tr><th scope=row>salary</th><td>-0.146684</td><td>5.251624</td></tr>\n",
       "</tbody>\n",
       "</table>\n"
      ],
      "text/latex": [
       "A matrix: 1 x 2 of type dbl\n",
       "\\begin{tabular}{r|ll}\n",
       "  & 0.5 \\% & 99.5 \\%\\\\\n",
       "\\hline\n",
       "\tsalary & -0.146684 & 5.251624\\\\\n",
       "\\end{tabular}\n"
      ],
      "text/markdown": [
       "\n",
       "A matrix: 1 x 2 of type dbl\n",
       "\n",
       "| <!--/--> | 0.5 % | 99.5 % |\n",
       "|---|---|---|\n",
       "| salary | -0.146684 | 5.251624 |\n",
       "\n"
      ],
      "text/plain": [
       "       0.5 %     99.5 %  \n",
       "salary -0.146684 5.251624"
      ]
     },
     "metadata": {},
     "output_type": "display_data"
    }
   ],
   "source": [
    "# 95% confidence\n",
    "CI_salary_95 <- confint(sat_model, parm = c(\"salary\"), level = 0.95)\n",
    "CI_salary_95\n",
    "\n",
    "# 99% confidence\n",
    "CI_salary_99 <- confint(sat_model, parm = c(\"salary\"), level = 0.99)\n",
    "CI_salary_99"
   ]
  },
  {
   "cell_type": "markdown",
   "metadata": {},
   "source": [
    "Confidence intervals are preferable to $p$-values, as they tell us the range of possible effect sizes compatible with the data. In general, if an observed result is statistically significant at a $p$-value of 0.05, then the null hypothesis should not fall within the 95% CI. So we can deduce that $p$-value for salary is larger than 0.01 but smaller than 0.05."
   ]
  },
  {
   "cell_type": "markdown",
   "metadata": {},
   "source": [
    "5. Compute and display a 95% joint confidence region for the parameters associated with ratio and salary. Add the origin to the plot. The location of the origin on the plot tells us the outcome of a certain hypothesis test. State that test and its outcome."
   ]
  },
  {
   "cell_type": "code",
   "execution_count": 243,
   "metadata": {},
   "outputs": [
    {
     "data": {
      "image/png": "[encoded data removed]",
      "text/plain": [
       "plot without title"
      ]
     },
     "metadata": {
      "image/png": {
       "height": 420,
       "width": 420
      }
     },
     "output_type": "display_data"
    }
   ],
   "source": [
    "conf <- confint(sat_model, level = 0.95)\n",
    "\n",
    "# Plot the confidence region\n",
    "plot(ellipse(sat_model, c(\"ratio\", \"salary\")), type = \"l\")\n",
    "\n",
    "# Add the estimates to the plot\n",
    "points(sat_model$coef[\"ratio\"], sat_model$coef[\"salary\"], pch = 18)\n",
    "\n",
    "# Add the origin to the plot\n",
    "points(0, 0, pch = 1)\n",
    "\n",
    "# Add the confidence interval for ratio\n",
    "abline(v = conf[\"ratio\", ], lty = 2)\n",
    "\n",
    "# Add the confidence interval for salary\n",
    "abline(h = conf[\"salary\", ], lty = 2)"
   ]
  },
  {
   "cell_type": "markdown",
   "metadata": {},
   "source": [
    "$H_0$: $\\beta_{ratio}=\\beta_{salary}=0$\\\n",
    "$H_A$: not $H_0$\\\n",
    "From the plot above we can see that the original point is not in the confidence region ellipse. So we can reject $H_0$ and conclude that at least one coefficient of rate and salary is not zero"
   ]
  },
  {
   "cell_type": "markdown",
   "metadata": {},
   "source": [
    "6. Now add expend (current expenditure per pupil) to the model and comment on the coefficients, their significance and the goodness of fit as compared to the model in question 1."
   ]
  },
  {
   "cell_type": "code",
   "execution_count": 244,
   "metadata": {},
   "outputs": [
    {
     "data": {
      "text/plain": [
       "\n",
       "Call:\n",
       "lm(formula = total ~ takers + ratio + salary, data = sat)\n",
       "\n",
       "Residuals:\n",
       "    Min      1Q  Median      3Q     Max \n",
       "-89.244 -21.485  -0.798  17.685  68.262 \n",
       "\n",
       "Coefficients:\n",
       "             Estimate Std. Error t value Pr(>|t|)    \n",
       "(Intercept) 1057.8982    44.3287  23.865   <2e-16 ***\n",
       "takers        -2.9134     0.2282 -12.764   <2e-16 ***\n",
       "ratio         -4.6394     2.1215  -2.187   0.0339 *  \n",
       "salary         2.5525     1.0045   2.541   0.0145 *  \n",
       "---\n",
       "Signif. codes:  0 '***' 0.001 '**' 0.01 '*' 0.05 '.' 0.1 ' ' 1\n",
       "\n",
       "Residual standard error: 32.41 on 46 degrees of freedom\n",
       "Multiple R-squared:  0.8239,\tAdjusted R-squared:  0.8124 \n",
       "F-statistic: 71.72 on 3 and 46 DF,  p-value: < 2.2e-16\n"
      ]
     },
     "metadata": {},
     "output_type": "display_data"
    },
    {
     "data": {
      "text/plain": [
       "\n",
       "Call:\n",
       "lm(formula = total ~ takers + ratio + salary + expend, data = sat)\n",
       "\n",
       "Residuals:\n",
       "    Min      1Q  Median      3Q     Max \n",
       "-90.531 -20.855  -1.746  15.979  66.571 \n",
       "\n",
       "Coefficients:\n",
       "             Estimate Std. Error t value Pr(>|t|)    \n",
       "(Intercept) 1045.9715    52.8698  19.784  < 2e-16 ***\n",
       "takers        -2.9045     0.2313 -12.559 2.61e-16 ***\n",
       "ratio         -3.6242     3.2154  -1.127    0.266    \n",
       "salary         1.6379     2.3872   0.686    0.496    \n",
       "expend         4.4626    10.5465   0.423    0.674    \n",
       "---\n",
       "Signif. codes:  0 '***' 0.001 '**' 0.01 '*' 0.05 '.' 0.1 ' ' 1\n",
       "\n",
       "Residual standard error: 32.7 on 45 degrees of freedom\n",
       "Multiple R-squared:  0.8246,\tAdjusted R-squared:  0.809 \n",
       "F-statistic: 52.88 on 4 and 45 DF,  p-value: < 2.2e-16\n"
      ]
     },
     "metadata": {},
     "output_type": "display_data"
    }
   ],
   "source": [
    "sat_modified_model <- lm(total ~ takers + ratio + salary + expend, data = sat)\n",
    "summary(sat_model)\n",
    "summary(sat_modified_model)"
   ]
  },
  {
   "cell_type": "markdown",
   "metadata": {},
   "source": [
    "From the summaries of two models above, we can see that all predictors from model in question 1 are significant at $\\alpha=0.05$ because all $p$-values are smaller than 0.05; however, in the second model generated in this question, the $p$-values for ratio, salary and expend are all larger than $\\alpha=0.05$, which means that they are all not significant. In such a sense, the former model in question 1 is a better fit for the data."
   ]
  },
  {
   "cell_type": "markdown",
   "metadata": {},
   "source": [
    "We can also use a F-test to compare the two models:\\\n",
    "$H_0$: $\\beta_{expend}=0$\\\n",
    "$H_A$: $\\beta_{expend}\\ne0$"
   ]
  },
  {
   "cell_type": "code",
   "execution_count": 245,
   "metadata": {},
   "outputs": [
    {
     "data": {
      "text/html": [
       "<table class=\"dataframe\">\n",
       "<caption>A anova: 2 x 6</caption>\n",
       "<thead>\n",
       "\t<tr><th></th><th scope=col>Res.Df</th><th scope=col>RSS</th><th scope=col>Df</th><th scope=col>Sum of Sq</th><th scope=col>F</th><th scope=col>Pr(&gt;F)</th></tr>\n",
       "\t<tr><th></th><th scope=col>&lt;dbl&gt;</th><th scope=col>&lt;dbl&gt;</th><th scope=col>&lt;dbl&gt;</th><th scope=col>&lt;dbl&gt;</th><th scope=col>&lt;dbl&gt;</th><th scope=col>&lt;dbl&gt;</th></tr>\n",
       "</thead>\n",
       "<tbody>\n",
       "\t<tr><th scope=row>1</th><td>46</td><td>48315.37</td><td>NA</td><td>      NA</td><td>       NA</td><td>      NA</td></tr>\n",
       "\t<tr><th scope=row>2</th><td>45</td><td>48123.90</td><td> 1</td><td>191.4714</td><td>0.1790423</td><td>0.674213</td></tr>\n",
       "</tbody>\n",
       "</table>\n"
      ],
      "text/latex": [
       "A anova: 2 x 6\n",
       "\\begin{tabular}{r|llllll}\n",
       "  & Res.Df & RSS & Df & Sum of Sq & F & Pr(>F)\\\\\n",
       "  & <dbl> & <dbl> & <dbl> & <dbl> & <dbl> & <dbl>\\\\\n",
       "\\hline\n",
       "\t1 & 46 & 48315.37 & NA &       NA &        NA &       NA\\\\\n",
       "\t2 & 45 & 48123.90 &  1 & 191.4714 & 0.1790423 & 0.674213\\\\\n",
       "\\end{tabular}\n"
      ],
      "text/markdown": [
       "\n",
       "A anova: 2 x 6\n",
       "\n",
       "| <!--/--> | Res.Df &lt;dbl&gt; | RSS &lt;dbl&gt; | Df &lt;dbl&gt; | Sum of Sq &lt;dbl&gt; | F &lt;dbl&gt; | Pr(&gt;F) &lt;dbl&gt; |\n",
       "|---|---|---|---|---|---|---|\n",
       "| 1 | 46 | 48315.37 | NA |       NA |        NA |       NA |\n",
       "| 2 | 45 | 48123.90 |  1 | 191.4714 | 0.1790423 | 0.674213 |\n",
       "\n"
      ],
      "text/plain": [
       "  Res.Df RSS      Df Sum of Sq F         Pr(>F)  \n",
       "1 46     48315.37 NA       NA         NA       NA\n",
       "2 45     48123.90  1 191.4714  0.1790423 0.674213"
      ]
     },
     "metadata": {},
     "output_type": "display_data"
    }
   ],
   "source": [
    "anova(sat_model, sat_modified_model)"
   ]
  },
  {
   "cell_type": "markdown",
   "metadata": {},
   "source": [
    "Here, $p$-value is 0.674213 which is much larger than $\\alpha=0.05$. So we cannot reject $H_0$. That means we do not have sufficient evidence to conclude that $\\beta_{expend}\\ne0$."
   ]
  },
  {
   "cell_type": "markdown",
   "metadata": {},
   "source": [
    "7. In the model of question 6, test the hypothesis $\\beta_{salary} = \\beta_{expend} =\\beta_{ratio} = 0$. Based on your entire analysis, do you feel any of these predictors have an effect on the response?"
   ]
  },
  {
   "cell_type": "markdown",
   "metadata": {},
   "source": [
    "$H_0$: $\\beta_{salary}=\\beta_{expend}=\\beta_{ratio}=0$\\\n",
    "$H_A$: not $H_0$"
   ]
  },
  {
   "cell_type": "code",
   "execution_count": 246,
   "metadata": {},
   "outputs": [
    {
     "data": {
      "text/html": [
       "<table class=\"dataframe\">\n",
       "<caption>A anova: 2 x 6</caption>\n",
       "<thead>\n",
       "\t<tr><th></th><th scope=col>Res.Df</th><th scope=col>RSS</th><th scope=col>Df</th><th scope=col>Sum of Sq</th><th scope=col>F</th><th scope=col>Pr(&gt;F)</th></tr>\n",
       "\t<tr><th></th><th scope=col>&lt;dbl&gt;</th><th scope=col>&lt;dbl&gt;</th><th scope=col>&lt;dbl&gt;</th><th scope=col>&lt;dbl&gt;</th><th scope=col>&lt;dbl&gt;</th><th scope=col>&lt;dbl&gt;</th></tr>\n",
       "</thead>\n",
       "<tbody>\n",
       "\t<tr><th scope=row>1</th><td>48</td><td>58433.15</td><td>NA</td><td>      NA</td><td>      NA</td><td>        NA</td></tr>\n",
       "\t<tr><th scope=row>2</th><td>45</td><td>48123.90</td><td> 3</td><td>10309.25</td><td>3.213347</td><td>0.03164874</td></tr>\n",
       "</tbody>\n",
       "</table>\n"
      ],
      "text/latex": [
       "A anova: 2 x 6\n",
       "\\begin{tabular}{r|llllll}\n",
       "  & Res.Df & RSS & Df & Sum of Sq & F & Pr(>F)\\\\\n",
       "  & <dbl> & <dbl> & <dbl> & <dbl> & <dbl> & <dbl>\\\\\n",
       "\\hline\n",
       "\t1 & 48 & 58433.15 & NA &       NA &       NA &         NA\\\\\n",
       "\t2 & 45 & 48123.90 &  3 & 10309.25 & 3.213347 & 0.03164874\\\\\n",
       "\\end{tabular}\n"
      ],
      "text/markdown": [
       "\n",
       "A anova: 2 x 6\n",
       "\n",
       "| <!--/--> | Res.Df &lt;dbl&gt; | RSS &lt;dbl&gt; | Df &lt;dbl&gt; | Sum of Sq &lt;dbl&gt; | F &lt;dbl&gt; | Pr(&gt;F) &lt;dbl&gt; |\n",
       "|---|---|---|---|---|---|---|\n",
       "| 1 | 48 | 58433.15 | NA |       NA |       NA |         NA |\n",
       "| 2 | 45 | 48123.90 |  3 | 10309.25 | 3.213347 | 0.03164874 |\n",
       "\n"
      ],
      "text/plain": [
       "  Res.Df RSS      Df Sum of Sq F        Pr(>F)    \n",
       "1 48     58433.15 NA       NA        NA         NA\n",
       "2 45     48123.90  3 10309.25  3.213347 0.03164874"
      ]
     },
     "metadata": {},
     "output_type": "display_data"
    }
   ],
   "source": [
    "# model under H_0\n",
    "h0 <- lm(total ~ takers, data = sat)\n",
    "\n",
    "# model under H_0A\n",
    "h0a <- lm(total ~ takers + ratio + salary + expend, data = sat)\n",
    "\n",
    "# compare two models\n",
    "anova(h0, h0a)"
   ]
  },
  {
   "cell_type": "markdown",
   "metadata": {},
   "source": [
    "Here, $p$-value is 0.03164874 which is smaller than $\\alpha=0.05$. So we can reject $H_0$ and say that at least one of the coefficient of ratio, salary and expend is not zero."
   ]
  },
  {
   "cell_type": "code",
   "execution_count": 247,
   "metadata": {},
   "outputs": [
    {
     "data": {
      "text/plain": [
       "\n",
       "Call:\n",
       "lm(formula = total ~ takers + ratio + salary + expend, data = sat)\n",
       "\n",
       "Residuals:\n",
       "    Min      1Q  Median      3Q     Max \n",
       "-90.531 -20.855  -1.746  15.979  66.571 \n",
       "\n",
       "Coefficients:\n",
       "             Estimate Std. Error t value Pr(>|t|)    \n",
       "(Intercept) 1045.9715    52.8698  19.784  < 2e-16 ***\n",
       "takers        -2.9045     0.2313 -12.559 2.61e-16 ***\n",
       "ratio         -3.6242     3.2154  -1.127    0.266    \n",
       "salary         1.6379     2.3872   0.686    0.496    \n",
       "expend         4.4626    10.5465   0.423    0.674    \n",
       "---\n",
       "Signif. codes:  0 '***' 0.001 '**' 0.01 '*' 0.05 '.' 0.1 ' ' 1\n",
       "\n",
       "Residual standard error: 32.7 on 45 degrees of freedom\n",
       "Multiple R-squared:  0.8246,\tAdjusted R-squared:  0.809 \n",
       "F-statistic: 52.88 on 4 and 45 DF,  p-value: < 2.2e-16\n"
      ]
     },
     "metadata": {},
     "output_type": "display_data"
    }
   ],
   "source": [
    "# Recall the summary of the new model\n",
    "summary(sat_modified_model)"
   ]
  },
  {
   "cell_type": "markdown",
   "metadata": {},
   "source": [
    "From the summary we can see that the only $p$-value smaller than $\\alpha=0.05$ is associated with the predictor “takers”. So we can only say that the predictor “takers” have an effect on response. As for the remaining predictors, all of their $p$-values are larger than 0.05, so we do not have sufficient evidence to say they have an effect on the response"
   ]
  },
  {
   "cell_type": "markdown",
   "metadata": {},
   "source": [
    "## Part D (Maximum 2 pages). "
   ]
  },
  {
   "cell_type": "markdown",
   "metadata": {},
   "source": [
    "Using the teengamb data, fit a model with gamble as the response and the other variables as predictors."
   ]
  },
  {
   "cell_type": "code",
   "execution_count": 248,
   "metadata": {},
   "outputs": [
    {
     "data": {
      "text/html": [
       "<table class=\"dataframe\">\n",
       "<caption>A data.frame: 6 x 5</caption>\n",
       "<thead>\n",
       "\t<tr><th></th><th scope=col>sex</th><th scope=col>status</th><th scope=col>income</th><th scope=col>verbal</th><th scope=col>gamble</th></tr>\n",
       "\t<tr><th></th><th scope=col>&lt;int&gt;</th><th scope=col>&lt;int&gt;</th><th scope=col>&lt;dbl&gt;</th><th scope=col>&lt;int&gt;</th><th scope=col>&lt;dbl&gt;</th></tr>\n",
       "</thead>\n",
       "<tbody>\n",
       "\t<tr><th scope=row>1</th><td>1</td><td>51</td><td>2.00</td><td>8</td><td> 0.0</td></tr>\n",
       "\t<tr><th scope=row>2</th><td>1</td><td>28</td><td>2.50</td><td>8</td><td> 0.0</td></tr>\n",
       "\t<tr><th scope=row>3</th><td>1</td><td>37</td><td>2.00</td><td>6</td><td> 0.0</td></tr>\n",
       "\t<tr><th scope=row>4</th><td>1</td><td>28</td><td>7.00</td><td>4</td><td> 7.3</td></tr>\n",
       "\t<tr><th scope=row>5</th><td>1</td><td>65</td><td>2.00</td><td>8</td><td>19.6</td></tr>\n",
       "\t<tr><th scope=row>6</th><td>1</td><td>61</td><td>3.47</td><td>6</td><td> 0.1</td></tr>\n",
       "</tbody>\n",
       "</table>\n"
      ],
      "text/latex": [
       "A data.frame: 6 x 5\n",
       "\\begin{tabular}{r|lllll}\n",
       "  & sex & status & income & verbal & gamble\\\\\n",
       "  & <int> & <int> & <dbl> & <int> & <dbl>\\\\\n",
       "\\hline\n",
       "\t1 & 1 & 51 & 2.00 & 8 &  0.0\\\\\n",
       "\t2 & 1 & 28 & 2.50 & 8 &  0.0\\\\\n",
       "\t3 & 1 & 37 & 2.00 & 6 &  0.0\\\\\n",
       "\t4 & 1 & 28 & 7.00 & 4 &  7.3\\\\\n",
       "\t5 & 1 & 65 & 2.00 & 8 & 19.6\\\\\n",
       "\t6 & 1 & 61 & 3.47 & 6 &  0.1\\\\\n",
       "\\end{tabular}\n"
      ],
      "text/markdown": [
       "\n",
       "A data.frame: 6 x 5\n",
       "\n",
       "| <!--/--> | sex &lt;int&gt; | status &lt;int&gt; | income &lt;dbl&gt; | verbal &lt;int&gt; | gamble &lt;dbl&gt; |\n",
       "|---|---|---|---|---|---|\n",
       "| 1 | 1 | 51 | 2.00 | 8 |  0.0 |\n",
       "| 2 | 1 | 28 | 2.50 | 8 |  0.0 |\n",
       "| 3 | 1 | 37 | 2.00 | 6 |  0.0 |\n",
       "| 4 | 1 | 28 | 7.00 | 4 |  7.3 |\n",
       "| 5 | 1 | 65 | 2.00 | 8 | 19.6 |\n",
       "| 6 | 1 | 61 | 3.47 | 6 |  0.1 |\n",
       "\n"
      ],
      "text/plain": [
       "  sex status income verbal gamble\n",
       "1 1   51     2.00   8       0.0  \n",
       "2 1   28     2.50   8       0.0  \n",
       "3 1   37     2.00   6       0.0  \n",
       "4 1   28     7.00   4       7.3  \n",
       "5 1   65     2.00   8      19.6  \n",
       "6 1   61     3.47   6       0.1  "
      ]
     },
     "metadata": {},
     "output_type": "display_data"
    }
   ],
   "source": [
    "data(\"teengamb\")\n",
    "head(teengamb)"
   ]
  },
  {
   "cell_type": "code",
   "execution_count": 249,
   "metadata": {},
   "outputs": [
    {
     "data": {
      "text/plain": [
       "\n",
       "Call:\n",
       "lm(formula = gamble ~ sex + status + income + verbal, data = teengamb)\n",
       "\n",
       "Residuals:\n",
       "    Min      1Q  Median      3Q     Max \n",
       "-51.082 -11.320  -1.451   9.452  94.252 \n",
       "\n",
       "Coefficients:\n",
       "             Estimate Std. Error t value Pr(>|t|)    \n",
       "(Intercept)  22.55565   17.19680   1.312   0.1968    \n",
       "sex         -22.11833    8.21111  -2.694   0.0101 *  \n",
       "status        0.05223    0.28111   0.186   0.8535    \n",
       "income        4.96198    1.02539   4.839 1.79e-05 ***\n",
       "verbal       -2.95949    2.17215  -1.362   0.1803    \n",
       "---\n",
       "Signif. codes:  0 '***' 0.001 '**' 0.01 '*' 0.05 '.' 0.1 ' ' 1\n",
       "\n",
       "Residual standard error: 22.69 on 42 degrees of freedom\n",
       "Multiple R-squared:  0.5267,\tAdjusted R-squared:  0.4816 \n",
       "F-statistic: 11.69 on 4 and 42 DF,  p-value: 1.815e-06\n"
      ]
     },
     "metadata": {},
     "output_type": "display_data"
    }
   ],
   "source": [
    "teen_model <- lm(gamble ~ sex + status + income + verbal, data = teengamb)\n",
    "summary(teen_model)"
   ]
  },
  {
   "cell_type": "markdown",
   "metadata": {},
   "source": [
    "1. Predict the amount that a male with average (given these data) status, income and verbal score would gamble along with an appropriate 95% CI."
   ]
  },
  {
   "cell_type": "code",
   "execution_count": 250,
   "metadata": {},
   "outputs": [
    {
     "data": {
      "text/html": [
       "<table class=\"dataframe\">\n",
       "<caption>A matrix: 1 x 3 of type dbl</caption>\n",
       "<thead>\n",
       "\t<tr><th></th><th scope=col>fit</th><th scope=col>lwr</th><th scope=col>upr</th></tr>\n",
       "</thead>\n",
       "<tbody>\n",
       "\t<tr><th scope=row>1</th><td>28.24252</td><td>18.78277</td><td>37.70227</td></tr>\n",
       "</tbody>\n",
       "</table>\n"
      ],
      "text/latex": [
       "A matrix: 1 x 3 of type dbl\n",
       "\\begin{tabular}{r|lll}\n",
       "  & fit & lwr & upr\\\\\n",
       "\\hline\n",
       "\t1 & 28.24252 & 18.78277 & 37.70227\\\\\n",
       "\\end{tabular}\n"
      ],
      "text/markdown": [
       "\n",
       "A matrix: 1 x 3 of type dbl\n",
       "\n",
       "| <!--/--> | fit | lwr | upr |\n",
       "|---|---|---|---|\n",
       "| 1 | 28.24252 | 18.78277 | 37.70227 |\n",
       "\n"
      ],
      "text/plain": [
       "  fit      lwr      upr     \n",
       "1 28.24252 18.78277 37.70227"
      ]
     },
     "metadata": {},
     "output_type": "display_data"
    }
   ],
   "source": [
    "x1 <- data.frame(sex = 0, status = mean(teengamb$status), income = mean(teengamb$income), verbal = mean(teengamb$verbal))\n",
    "predict(teen_model, x1, interval = \"confidence\", level = 0.95)"
   ]
  },
  {
   "cell_type": "markdown",
   "metadata": {},
   "source": [
    "With an appropriate 95% CI, the upper result would be 37.70227 while the lower result would be 18.78277."
   ]
  },
  {
   "cell_type": "markdown",
   "metadata": {},
   "source": [
    "2. Repeat the prediction for a male with maximal values (for this data) of status, income and verbal score. Which CI is wider and why is this result expected?"
   ]
  },
  {
   "cell_type": "code",
   "execution_count": 251,
   "metadata": {},
   "outputs": [
    {
     "data": {
      "text/html": [
       "<table class=\"dataframe\">\n",
       "<caption>A matrix: 1 x 3 of type dbl</caption>\n",
       "<thead>\n",
       "\t<tr><th></th><th scope=col>fit</th><th scope=col>lwr</th><th scope=col>upr</th></tr>\n",
       "</thead>\n",
       "<tbody>\n",
       "\t<tr><th scope=row>1</th><td>71.30794</td><td>42.23237</td><td>100.3835</td></tr>\n",
       "</tbody>\n",
       "</table>\n"
      ],
      "text/latex": [
       "A matrix: 1 x 3 of type dbl\n",
       "\\begin{tabular}{r|lll}\n",
       "  & fit & lwr & upr\\\\\n",
       "\\hline\n",
       "\t1 & 71.30794 & 42.23237 & 100.3835\\\\\n",
       "\\end{tabular}\n"
      ],
      "text/markdown": [
       "\n",
       "A matrix: 1 x 3 of type dbl\n",
       "\n",
       "| <!--/--> | fit | lwr | upr |\n",
       "|---|---|---|---|\n",
       "| 1 | 71.30794 | 42.23237 | 100.3835 |\n",
       "\n"
      ],
      "text/plain": [
       "  fit      lwr      upr     \n",
       "1 71.30794 42.23237 100.3835"
      ]
     },
     "metadata": {},
     "output_type": "display_data"
    }
   ],
   "source": [
    "x2 <- data.frame(sex = 0, status = max(teengamb$status), income = max(teengamb$income), verbal = max(teengamb$verbal))\n",
    "predict(teen_model, x2, interval = \"confidence\", level = 0.95)"
   ]
  },
  {
   "cell_type": "markdown",
   "metadata": {},
   "source": [
    "With an appropriate 95% CI, the upper result would be 100.3835 while the lower result would be 42.23237.\\\n",
    "Compared to CI in question 1, the second CI is obviously wider. For confidence intervals, we have CI:\n",
    "$$\\hat{y_0}\\pm t_{n-(p+1)}^{(\\alpha/2)} \\hat{\\sigma}\\sqrt{X_0^T(X^TX)^{-1}x_0} $$\n",
    "While the other terms remain stable, the only factor that matters is the term $\\sqrt{X_0^T(X^TX)^{-1}x_0}$. If $x_0$ has larger values, the CI will be wider. In this question all predictors take the max values, that is why the CI here is much wider than the CI in question 1."
   ]
  },
  {
   "cell_type": "markdown",
   "metadata": {},
   "source": [
    "3. Fit a model with sqrt(gamble) as the response but with the same predictors. Now predict the response and give a 95% prediction interval for the individual in question 1. Take care to give your answer in the original units of the response."
   ]
  },
  {
   "cell_type": "code",
   "execution_count": 252,
   "metadata": {},
   "outputs": [
    {
     "data": {
      "text/plain": [
       "\n",
       "Call:\n",
       "lm(formula = sqrt(gamble) ~ sex + status + income + verbal, data = teengamb)\n",
       "\n",
       "Residuals:\n",
       "    Min      1Q  Median      3Q     Max \n",
       "-4.6606 -1.0961 -0.2564  0.9786  5.4178 \n",
       "\n",
       "Coefficients:\n",
       "            Estimate Std. Error t value Pr(>|t|)    \n",
       "(Intercept)  2.97707    1.57947   1.885  0.06638 .  \n",
       "sex         -2.04450    0.75416  -2.711  0.00968 ** \n",
       "status       0.03688    0.02582   1.428  0.16057    \n",
       "income       0.47938    0.09418   5.090 7.94e-06 ***\n",
       "verbal      -0.42360    0.19950  -2.123  0.03967 *  \n",
       "---\n",
       "Signif. codes:  0 '***' 0.001 '**' 0.01 '*' 0.05 '.' 0.1 ' ' 1\n",
       "\n",
       "Residual standard error: 2.084 on 42 degrees of freedom\n",
       "Multiple R-squared:  0.5646,\tAdjusted R-squared:  0.5231 \n",
       "F-statistic: 13.61 on 4 and 42 DF,  p-value: 3.362e-07\n"
      ]
     },
     "metadata": {},
     "output_type": "display_data"
    }
   ],
   "source": [
    "teen_modified_model <- lm(sqrt(gamble) ~ sex + status + income + verbal, data = teengamb)\n",
    "summary(teen_modified_model)"
   ]
  },
  {
   "cell_type": "code",
   "execution_count": 253,
   "metadata": {},
   "outputs": [
    {
     "data": {
      "text/html": [
       "<table class=\"dataframe\">\n",
       "<caption>A matrix: 1 x 3 of type dbl</caption>\n",
       "<thead>\n",
       "\t<tr><th></th><th scope=col>fit</th><th scope=col>lwr</th><th scope=col>upr</th></tr>\n",
       "</thead>\n",
       "<tbody>\n",
       "\t<tr><th scope=row>1</th><td>4.049523</td><td>3.180676</td><td>4.918371</td></tr>\n",
       "</tbody>\n",
       "</table>\n"
      ],
      "text/latex": [
       "A matrix: 1 x 3 of type dbl\n",
       "\\begin{tabular}{r|lll}\n",
       "  & fit & lwr & upr\\\\\n",
       "\\hline\n",
       "\t1 & 4.049523 & 3.180676 & 4.918371\\\\\n",
       "\\end{tabular}\n"
      ],
      "text/markdown": [
       "\n",
       "A matrix: 1 x 3 of type dbl\n",
       "\n",
       "| <!--/--> | fit | lwr | upr |\n",
       "|---|---|---|---|\n",
       "| 1 | 4.049523 | 3.180676 | 4.918371 |\n",
       "\n"
      ],
      "text/plain": [
       "  fit      lwr      upr     \n",
       "1 4.049523 3.180676 4.918371"
      ]
     },
     "metadata": {},
     "output_type": "display_data"
    }
   ],
   "source": [
    "result <- predict(teen_modified_model, x1, interval = \"confidence\", level = 0.95)\n",
    "result"
   ]
  },
  {
   "cell_type": "code",
   "execution_count": 254,
   "metadata": {},
   "outputs": [
    {
     "data": {
      "text/html": [
       "<style>\n",
       ".list-inline {list-style: none; margin:0; padding: 0}\n",
       ".list-inline>li {display: inline-block}\n",
       ".list-inline>li:not(:last-child)::after {content: \"\\00b7\"; padding: 0 .5ex}\n",
       "</style>\n",
       "<ol class=list-inline><li>16.398640372701</li><li>10.1167019967721</li><li>24.1903694265679</li></ol>\n"
      ],
      "text/latex": [
       "\\begin{enumerate*}\n",
       "\\item 16.398640372701\n",
       "\\item 10.1167019967721\n",
       "\\item 24.1903694265679\n",
       "\\end{enumerate*}\n"
      ],
      "text/markdown": [
       "1. 16.398640372701\n",
       "2. 10.1167019967721\n",
       "3. 24.1903694265679\n",
       "\n",
       "\n"
      ],
      "text/plain": [
       "[1] 16.39864 10.11670 24.19037"
      ]
     },
     "metadata": {},
     "output_type": "display_data"
    }
   ],
   "source": [
    "# Original units of response\n",
    "original_result <- c(result[1]^2, result[2]^2, result[3]^2)\n",
    "original_result"
   ]
  },
  {
   "cell_type": "markdown",
   "metadata": {},
   "source": [
    "With an appropriate 95% CI, the fitted value would be 16.398640372701; the upper result would be 24.1903694265679 while the lower result would be 10.1167019967721."
   ]
  },
  {
   "cell_type": "markdown",
   "metadata": {},
   "source": [
    "4. Repeat the prediction for the model in question 3 for a female with status=20, income=1, verbal = 10.Comment on the credibility of the result."
   ]
  },
  {
   "cell_type": "code",
   "execution_count": 255,
   "metadata": {},
   "outputs": [
    {
     "data": {
      "text/html": [
       "<table class=\"dataframe\">\n",
       "<caption>A matrix: 1 x 3 of type dbl</caption>\n",
       "<thead>\n",
       "\t<tr><th></th><th scope=col>fit</th><th scope=col>lwr</th><th scope=col>upr</th></tr>\n",
       "</thead>\n",
       "<tbody>\n",
       "\t<tr><th scope=row>1</th><td>-2.08648</td><td>-4.445937</td><td>0.272978</td></tr>\n",
       "</tbody>\n",
       "</table>\n"
      ],
      "text/latex": [
       "A matrix: 1 x 3 of type dbl\n",
       "\\begin{tabular}{r|lll}\n",
       "  & fit & lwr & upr\\\\\n",
       "\\hline\n",
       "\t1 & -2.08648 & -4.445937 & 0.272978\\\\\n",
       "\\end{tabular}\n"
      ],
      "text/markdown": [
       "\n",
       "A matrix: 1 x 3 of type dbl\n",
       "\n",
       "| <!--/--> | fit | lwr | upr |\n",
       "|---|---|---|---|\n",
       "| 1 | -2.08648 | -4.445937 | 0.272978 |\n",
       "\n"
      ],
      "text/plain": [
       "  fit      lwr       upr     \n",
       "1 -2.08648 -4.445937 0.272978"
      ]
     },
     "metadata": {},
     "output_type": "display_data"
    }
   ],
   "source": [
    "x4 <- data.frame(sex = 1, status = 20, income = 1, verbal = 10)\n",
    "predict(teen_modified_model, x4, interval = \"confidence\", level = 0.95)"
   ]
  },
  {
   "cell_type": "markdown",
   "metadata": {},
   "source": [
    "The predicted data here is unreliable already because the fitted value as well as the lower bound are negative while $\\sqrt{gamble}$ is obviously positive. So we can say that the prediction here is NOT reliable."
   ]
  }
 ],
 "metadata": {
  "kernelspec": {
   "display_name": "R",
   "language": "R",
   "name": "ir"
  },
  "language_info": {
   "codemirror_mode": "r",
   "file_extension": ".r",
   "mimetype": "text/x-r-source",
   "name": "R",
   "pygments_lexer": "r",
   "version": "3.4.4"
  },
  "orig_nbformat": 4
 },
 "nbformat": 4,
 "nbformat_minor": 2
}
