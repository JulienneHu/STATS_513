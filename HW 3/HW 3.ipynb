{
 "cells": [
  {
   "cell_type": "markdown",
   "metadata": {},
   "source": [
    "# HW 2"
   ]
  },
  {
   "cell_type": "code",
   "execution_count": 1,
   "metadata": {},
   "outputs": [],
   "source": [
    "# Intialization\n",
    "library(faraway)"
   ]
  },
  {
   "cell_type": "markdown",
   "metadata": {},
   "source": [
    "## Part A (Maximum 2 pages,40 points)"
   ]
  },
  {
   "cell_type": "markdown",
   "metadata": {},
   "source": [
    "Using the sat dataset, fit a model with the total SAT score as the response and expend, salary, ratio and takers as predictors. Check the structure of the relationship between the predictors and the response (the process is to be performed for all predictors).Display plots that are relevant only. Suggest possible improvements or corrections to the model where appropriate.(Hints: You may use partial regression plot and partial residual plot)"
   ]
  },
  {
   "cell_type": "code",
   "execution_count": 2,
   "metadata": {},
   "outputs": [
    {
     "data": {
      "text/html": [
       "<table class=\"dataframe\">\n",
       "<caption>A data.frame: 6 x 7</caption>\n",
       "<thead>\n",
       "\t<tr><th></th><th scope=col>expend</th><th scope=col>ratio</th><th scope=col>salary</th><th scope=col>takers</th><th scope=col>verbal</th><th scope=col>math</th><th scope=col>total</th></tr>\n",
       "\t<tr><th></th><th scope=col>&lt;dbl&gt;</th><th scope=col>&lt;dbl&gt;</th><th scope=col>&lt;dbl&gt;</th><th scope=col>&lt;int&gt;</th><th scope=col>&lt;int&gt;</th><th scope=col>&lt;int&gt;</th><th scope=col>&lt;int&gt;</th></tr>\n",
       "</thead>\n",
       "<tbody>\n",
       "\t<tr><th scope=row>Alabama</th><td>4.405</td><td>17.2</td><td>31.144</td><td> 8</td><td>491</td><td>538</td><td>1029</td></tr>\n",
       "\t<tr><th scope=row>Alaska</th><td>8.963</td><td>17.6</td><td>47.951</td><td>47</td><td>445</td><td>489</td><td> 934</td></tr>\n",
       "\t<tr><th scope=row>Arizona</th><td>4.778</td><td>19.3</td><td>32.175</td><td>27</td><td>448</td><td>496</td><td> 944</td></tr>\n",
       "\t<tr><th scope=row>Arkansas</th><td>4.459</td><td>17.1</td><td>28.934</td><td> 6</td><td>482</td><td>523</td><td>1005</td></tr>\n",
       "\t<tr><th scope=row>California</th><td>4.992</td><td>24.0</td><td>41.078</td><td>45</td><td>417</td><td>485</td><td> 902</td></tr>\n",
       "\t<tr><th scope=row>Colorado</th><td>5.443</td><td>18.4</td><td>34.571</td><td>29</td><td>462</td><td>518</td><td> 980</td></tr>\n",
       "</tbody>\n",
       "</table>\n"
      ],
      "text/latex": [
       "A data.frame: 6 x 7\n",
       "\\begin{tabular}{r|lllllll}\n",
       "  & expend & ratio & salary & takers & verbal & math & total\\\\\n",
       "  & <dbl> & <dbl> & <dbl> & <int> & <int> & <int> & <int>\\\\\n",
       "\\hline\n",
       "\tAlabama & 4.405 & 17.2 & 31.144 &  8 & 491 & 538 & 1029\\\\\n",
       "\tAlaska & 8.963 & 17.6 & 47.951 & 47 & 445 & 489 &  934\\\\\n",
       "\tArizona & 4.778 & 19.3 & 32.175 & 27 & 448 & 496 &  944\\\\\n",
       "\tArkansas & 4.459 & 17.1 & 28.934 &  6 & 482 & 523 & 1005\\\\\n",
       "\tCalifornia & 4.992 & 24.0 & 41.078 & 45 & 417 & 485 &  902\\\\\n",
       "\tColorado & 5.443 & 18.4 & 34.571 & 29 & 462 & 518 &  980\\\\\n",
       "\\end{tabular}\n"
      ],
      "text/markdown": [
       "\n",
       "A data.frame: 6 x 7\n",
       "\n",
       "| <!--/--> | expend &lt;dbl&gt; | ratio &lt;dbl&gt; | salary &lt;dbl&gt; | takers &lt;int&gt; | verbal &lt;int&gt; | math &lt;int&gt; | total &lt;int&gt; |\n",
       "|---|---|---|---|---|---|---|---|\n",
       "| Alabama | 4.405 | 17.2 | 31.144 |  8 | 491 | 538 | 1029 |\n",
       "| Alaska | 8.963 | 17.6 | 47.951 | 47 | 445 | 489 |  934 |\n",
       "| Arizona | 4.778 | 19.3 | 32.175 | 27 | 448 | 496 |  944 |\n",
       "| Arkansas | 4.459 | 17.1 | 28.934 |  6 | 482 | 523 | 1005 |\n",
       "| California | 4.992 | 24.0 | 41.078 | 45 | 417 | 485 |  902 |\n",
       "| Colorado | 5.443 | 18.4 | 34.571 | 29 | 462 | 518 |  980 |\n",
       "\n"
      ],
      "text/plain": [
       "           expend ratio salary takers verbal math total\n",
       "Alabama    4.405  17.2  31.144  8     491    538  1029 \n",
       "Alaska     8.963  17.6  47.951 47     445    489   934 \n",
       "Arizona    4.778  19.3  32.175 27     448    496   944 \n",
       "Arkansas   4.459  17.1  28.934  6     482    523  1005 \n",
       "California 4.992  24.0  41.078 45     417    485   902 \n",
       "Colorado   5.443  18.4  34.571 29     462    518   980 "
      ]
     },
     "metadata": {},
     "output_type": "display_data"
    },
    {
     "data": {
      "text/plain": [
       "     expend          ratio           salary          takers     \n",
       " Min.   :3.656   Min.   :13.80   Min.   :25.99   Min.   : 4.00  \n",
       " 1st Qu.:4.882   1st Qu.:15.22   1st Qu.:30.98   1st Qu.: 9.00  \n",
       " Median :5.768   Median :16.60   Median :33.29   Median :28.00  \n",
       " Mean   :5.905   Mean   :16.86   Mean   :34.83   Mean   :35.24  \n",
       " 3rd Qu.:6.434   3rd Qu.:17.57   3rd Qu.:38.55   3rd Qu.:63.00  \n",
       " Max.   :9.774   Max.   :24.30   Max.   :50.05   Max.   :81.00  \n",
       "     verbal           math           total       \n",
       " Min.   :401.0   Min.   :443.0   Min.   : 844.0  \n",
       " 1st Qu.:427.2   1st Qu.:474.8   1st Qu.: 897.2  \n",
       " Median :448.0   Median :497.5   Median : 945.5  \n",
       " Mean   :457.1   Mean   :508.8   Mean   : 965.9  \n",
       " 3rd Qu.:490.2   3rd Qu.:539.5   3rd Qu.:1032.0  \n",
       " Max.   :516.0   Max.   :592.0   Max.   :1107.0  "
      ]
     },
     "metadata": {},
     "output_type": "display_data"
    }
   ],
   "source": [
    "data(sat)\n",
    "head(sat)\n",
    "summary(sat)"
   ]
  },
  {
   "cell_type": "code",
   "execution_count": 3,
   "metadata": {},
   "outputs": [
    {
     "data": {
      "text/plain": [
       "\n",
       "Call:\n",
       "lm(formula = total ~ expend + salary + ratio + takers, data = sat)\n",
       "\n",
       "Residuals:\n",
       "    Min      1Q  Median      3Q     Max \n",
       "-90.531 -20.855  -1.746  15.979  66.571 \n",
       "\n",
       "Coefficients:\n",
       "             Estimate Std. Error t value Pr(>|t|)    \n",
       "(Intercept) 1045.9715    52.8698  19.784  < 2e-16 ***\n",
       "expend         4.4626    10.5465   0.423    0.674    \n",
       "salary         1.6379     2.3872   0.686    0.496    \n",
       "ratio         -3.6242     3.2154  -1.127    0.266    \n",
       "takers        -2.9045     0.2313 -12.559 2.61e-16 ***\n",
       "---\n",
       "Signif. codes:  0 '***' 0.001 '**' 0.01 '*' 0.05 '.' 0.1 ' ' 1\n",
       "\n",
       "Residual standard error: 32.7 on 45 degrees of freedom\n",
       "Multiple R-squared:  0.8246,\tAdjusted R-squared:  0.809 \n",
       "F-statistic: 52.88 on 4 and 45 DF,  p-value: < 2.2e-16\n"
      ]
     },
     "metadata": {},
     "output_type": "display_data"
    }
   ],
   "source": [
    "model <- lm(total ~ expend + salary + ratio + takers, data = sat)\n",
    "summary(model)"
   ]
  },
  {
   "cell_type": "markdown",
   "metadata": {},
   "source": [
    "The results of this regression indicate that the variables $expend$, $salary$, and $ratio$ are not statistically significant. The only significant variable is $takers$, which has a strong negative association with the state-by-state total $SAT$ score."
   ]
  },
  {
   "cell_type": "code",
   "execution_count": 4,
   "metadata": {},
   "outputs": [
    {
     "data": {
      "image/png": "[encoded data removed]",
      "text/plain": [
       "Plot with title \"Partial Regression (takers vs. total)\""
      ]
     },
     "metadata": {
      "image/png": {
       "height": 420,
       "width": 420
      }
     },
     "output_type": "display_data"
    }
   ],
   "source": [
    "# partial regression plot\n",
    "delta <- residuals(lm(total ~ expend + ratio + salary, sat))\n",
    "gamma <- residuals(lm(takers ~ expend + ratio + salary, sat))\n",
    "plot(gamma, delta, xlab = \"Takers Residuals\", ylab = \"Total Residuals\", main = \"Partial Regression (takers vs. total)\", pch = 16)\n",
    "temp <- lm(delta ~ gamma)\n",
    "abline(reg = temp, col = \"red\")"
   ]
  },
  {
   "cell_type": "code",
   "execution_count": 5,
   "metadata": {},
   "outputs": [
    {
     "data": {
      "image/png": "[encoded data removed]",
      "text/plain": [
       "Plot with title \"salary vs. total\""
      ]
     },
     "metadata": {
      "image/png": {
       "height": 420,
       "width": 420
      }
     },
     "output_type": "display_data"
    }
   ],
   "source": [
    "# partial regression plot\n",
    "par(mfrow = c(1, 3))\n",
    "\n",
    "delta <- residuals(lm(total ~ takers + ratio + salary, sat))\n",
    "gamma <- residuals(lm(expend ~ takers + ratio + salary, sat))\n",
    "plot(gamma, delta, xlab = \"Expand Residuals\", ylab = \"Total Residuals\", main = \"expend vs. total\", pch = 16)\n",
    "temp <- lm(delta ~ gamma)\n",
    "abline(reg = temp, col = \"blue\")\n",
    "\n",
    "delta <- residuals(lm(total ~ takers + expend + salary, sat))\n",
    "gamma <- residuals(lm(ratio ~ takers + expend + salary, sat))\n",
    "plot(gamma, delta, xlab = \"Ratio Residuals\", ylab = \"Total Residuals\", main = \"ratio vs. total\", pch = 16)\n",
    "temp <- lm(delta ~ gamma)\n",
    "abline(reg = temp, col = \"blue\")\n",
    "\n",
    "delta <- residuals(lm(total ~ takers + expend + ratio, sat))\n",
    "gamma <- residuals(lm(salary ~ takers + expend + ratio, sat))\n",
    "plot(gamma, delta, xlab = \"Salary Residuals\", ylab = \"Total Residuals\", main = \"salary vs. total\", pch = 16)\n",
    "temp <- lm(delta ~ gamma)\n",
    "abline(reg = temp, col = \"blue\")"
   ]
  },
  {
   "cell_type": "code",
   "execution_count": 6,
   "metadata": {},
   "outputs": [
    {
     "data": {
      "image/png": "[encoded data removed]",
      "text/plain": [
       "Plot with title \"Partial Residual\""
      ]
     },
     "metadata": {
      "image/png": {
       "height": 420,
       "width": 420
      }
     },
     "output_type": "display_data"
    }
   ],
   "source": [
    "# partial residual plot\n",
    "result <- lm(total ~ expend + ratio + salary + takers, sat)\n",
    "plot(sat$takers, result$residuals + coef(result)[5] * sat$takers, xlab = \"takers\", ylab = \"sat total\", main = \"Partial Residual\")\n",
    "abline(a = 0, b = coef(result)[\"takers\"], col = \"red\")\n",
    "abline(v = 40, col = \"blue\")"
   ]
  },
  {
   "cell_type": "code",
   "execution_count": 7,
   "metadata": {},
   "outputs": [
    {
     "data": {
      "text/plain": [
       "\n",
       "Call:\n",
       "lm(formula = total ~ expend + ratio + salary + takers, data = sat, \n",
       "    subset = (takers < 40))\n",
       "\n",
       "Residuals:\n",
       "    Min      1Q  Median      3Q     Max \n",
       "-69.155 -16.672   1.747  15.654  54.956 \n",
       "\n",
       "Coefficients:\n",
       "            Estimate Std. Error t value Pr(>|t|)    \n",
       "(Intercept) 993.7178    84.5010  11.760 5.86e-11 ***\n",
       "expend        7.7581    16.4329   0.472    0.641    \n",
       "ratio         1.4251     4.6111   0.309    0.760    \n",
       "salary        1.0293     3.3058   0.311    0.758    \n",
       "takers       -5.5242     0.8706  -6.345 2.19e-06 ***\n",
       "---\n",
       "Signif. codes:  0 '***' 0.001 '**' 0.01 '*' 0.05 '.' 0.1 ' ' 1\n",
       "\n",
       "Residual standard error: 30.95 on 22 degrees of freedom\n",
       "Multiple R-squared:  0.656,\tAdjusted R-squared:  0.5935 \n",
       "F-statistic: 10.49 on 4 and 22 DF,  p-value: 6.549e-05\n"
      ]
     },
     "metadata": {},
     "output_type": "display_data"
    },
    {
     "data": {
      "text/plain": [
       "\n",
       "Call:\n",
       "lm(formula = total ~ expend + ratio + salary + takers, data = sat, \n",
       "    subset = (takers > 40))\n",
       "\n",
       "Residuals:\n",
       "    Min      1Q  Median      3Q     Max \n",
       "-38.434 -15.938  -2.509  11.444  50.289 \n",
       "\n",
       "Coefficients:\n",
       "            Estimate Std. Error t value Pr(>|t|)    \n",
       "(Intercept) 801.4329   105.6773   7.584  5.2e-07 ***\n",
       "expend       11.1444    10.8359   1.028    0.317    \n",
       "ratio         3.9147     4.8627   0.805    0.431    \n",
       "salary       -0.6354     2.7190  -0.234    0.818    \n",
       "takers       -0.3003     0.8869  -0.339    0.739    \n",
       "---\n",
       "Signif. codes:  0 '***' 0.001 '**' 0.01 '*' 0.05 '.' 0.1 ' ' 1\n",
       "\n",
       "Residual standard error: 23.74 on 18 degrees of freedom\n",
       "Multiple R-squared:  0.2627,\tAdjusted R-squared:  0.09882 \n",
       "F-statistic: 1.603 on 4 and 18 DF,  p-value: 0.2167\n"
      ]
     },
     "metadata": {},
     "output_type": "display_data"
    }
   ],
   "source": [
    "# two separate regressions on two groups\n",
    "lm1 <- lm(total ~ expend + ratio + salary + takers, sat, subset = (takers < 40))\n",
    "lm2 <- lm(total ~ expend + ratio + salary + takers, sat, subset = (takers > 40))\n",
    "summary(lm1)\n",
    "summary(lm2)"
   ]
  },
  {
   "cell_type": "markdown",
   "metadata": {},
   "source": [
    "In the first regression on the subset with $takers<40$, we find no relation between the predictors and theresponse.In contrast, there is a strong relationship in the subset with $takers> 40$. Therefore, controlling the range of the predictor could be a feasible way to improvement."
   ]
  },
  {
   "cell_type": "markdown",
   "metadata": {},
   "source": [
    "## Part B (Maximum 3 pages, 60 points with 20 bonus points)."
   ]
  },
  {
   "cell_type": "markdown",
   "metadata": {},
   "source": [
    "For the longley data, fit a model with Employed as the response and the other variables as predictors."
   ]
  },
  {
   "cell_type": "code",
   "execution_count": 8,
   "metadata": {},
   "outputs": [
    {
     "data": {
      "text/html": [
       "<style>\n",
       ".list-inline {list-style: none; margin:0; padding: 0}\n",
       ".list-inline>li {display: inline-block}\n",
       ".list-inline>li:not(:last-child)::after {content: \"\\00b7\"; padding: 0 .5ex}\n",
       "</style>\n",
       "<ol class=list-inline><li>'GNP.deflator'</li><li>'GNP'</li><li>'Unemployed'</li><li>'Armed.Forces'</li><li>'Population'</li><li>'Year'</li><li>'Employed'</li></ol>\n"
      ],
      "text/latex": [
       "\\begin{enumerate*}\n",
       "\\item 'GNP.deflator'\n",
       "\\item 'GNP'\n",
       "\\item 'Unemployed'\n",
       "\\item 'Armed.Forces'\n",
       "\\item 'Population'\n",
       "\\item 'Year'\n",
       "\\item 'Employed'\n",
       "\\end{enumerate*}\n"
      ],
      "text/markdown": [
       "1. 'GNP.deflator'\n",
       "2. 'GNP'\n",
       "3. 'Unemployed'\n",
       "4. 'Armed.Forces'\n",
       "5. 'Population'\n",
       "6. 'Year'\n",
       "7. 'Employed'\n",
       "\n",
       "\n"
      ],
      "text/plain": [
       "[1] \"GNP.deflator\" \"GNP\"          \"Unemployed\"   \"Armed.Forces\" \"Population\"  \n",
       "[6] \"Year\"         \"Employed\"    "
      ]
     },
     "metadata": {},
     "output_type": "display_data"
    }
   ],
   "source": [
    "data(longley)\n",
    "names(longley)"
   ]
  },
  {
   "cell_type": "markdown",
   "metadata": {},
   "source": [
    "Inspecting the names of the other variables, we can already conclude that there will be collinearity: It is reasonable to expect that $GNP.deflator$ and $Population$ are correlated with $GNP$. Moreover,inspecting the actual data we see that the population grows steadily over the years. Therefore, we can expect that variables $Year$ and $Population$ are (highly) correlated as well."
   ]
  },
  {
   "cell_type": "code",
   "execution_count": 9,
   "metadata": {},
   "outputs": [
    {
     "data": {
      "text/plain": [
       "\n",
       "Call:\n",
       "lm(formula = Employed ~ ., data = longley)\n",
       "\n",
       "Residuals:\n",
       "     Min       1Q   Median       3Q      Max \n",
       "-0.41011 -0.15767 -0.02816  0.10155  0.45539 \n",
       "\n",
       "Coefficients:\n",
       "               Estimate Std. Error t value Pr(>|t|)    \n",
       "(Intercept)  -3.482e+03  8.904e+02  -3.911 0.003560 ** \n",
       "GNP.deflator  1.506e-02  8.492e-02   0.177 0.863141    \n",
       "GNP          -3.582e-02  3.349e-02  -1.070 0.312681    \n",
       "Unemployed   -2.020e-02  4.884e-03  -4.136 0.002535 ** \n",
       "Armed.Forces -1.033e-02  2.143e-03  -4.822 0.000944 ***\n",
       "Population   -5.110e-02  2.261e-01  -0.226 0.826212    \n",
       "Year          1.829e+00  4.555e-01   4.016 0.003037 ** \n",
       "---\n",
       "Signif. codes:  0 '***' 0.001 '**' 0.01 '*' 0.05 '.' 0.1 ' ' 1\n",
       "\n",
       "Residual standard error: 0.3049 on 9 degrees of freedom\n",
       "Multiple R-squared:  0.9955,\tAdjusted R-squared:  0.9925 \n",
       "F-statistic: 330.3 on 6 and 9 DF,  p-value: 4.984e-10\n"
      ]
     },
     "metadata": {},
     "output_type": "display_data"
    }
   ],
   "source": [
    "lm_fit <- lm(Employed ~ ., data = longley)\n",
    "summary(lm_fit)"
   ]
  },
  {
   "cell_type": "markdown",
   "metadata": {},
   "source": [
    "1. Compute and comment on the condition numbers. (20 points)"
   ]
  },
  {
   "cell_type": "code",
   "execution_count": 10,
   "metadata": {},
   "outputs": [
    {
     "data": {
      "text/html": [
       "5751.22"
      ],
      "text/latex": [
       "5751.22"
      ],
      "text/markdown": [
       "5751.22"
      ],
      "text/plain": [
       "[1] 5751.22"
      ]
     },
     "metadata": {},
     "output_type": "display_data"
    }
   ],
   "source": [
    "X <- model.matrix(lm_fit)[, -1] # '-1' because we discard the intercept\n",
    "e <- eigen(t(X) %*% X)\n",
    "round(sqrt(e$val[1] / e$val), 2)[length(e$val)]"
   ]
  },
  {
   "cell_type": "markdown",
   "metadata": {},
   "source": [
    "The condition number is large (much larger than the suggested critical value of about 30). Thus, the inner product of the design matrix $X'X$ is close to singular. Among others this reduces the accuracy of the estimated regression vector and associated standard errors."
   ]
  },
  {
   "cell_type": "markdown",
   "metadata": {},
   "source": [
    "2. Compute and comment on the correlations between the predictors.(20 points)"
   ]
  },
  {
   "cell_type": "code",
   "execution_count": 11,
   "metadata": {},
   "outputs": [
    {
     "data": {
      "text/html": [
       "<table class=\"dataframe\">\n",
       "<caption>A matrix: 6 x 6 of type dbl</caption>\n",
       "<thead>\n",
       "\t<tr><th></th><th scope=col>GNP.deflator</th><th scope=col>GNP</th><th scope=col>Unemployed</th><th scope=col>Armed.Forces</th><th scope=col>Population</th><th scope=col>Year</th></tr>\n",
       "</thead>\n",
       "<tbody>\n",
       "\t<tr><th scope=row>GNP.deflator</th><td>1.00</td><td>0.99</td><td> 0.62</td><td> 0.46</td><td>0.98</td><td>0.99</td></tr>\n",
       "\t<tr><th scope=row>GNP</th><td>0.99</td><td>1.00</td><td> 0.60</td><td> 0.45</td><td>0.99</td><td>1.00</td></tr>\n",
       "\t<tr><th scope=row>Unemployed</th><td>0.62</td><td>0.60</td><td> 1.00</td><td>-0.18</td><td>0.69</td><td>0.67</td></tr>\n",
       "\t<tr><th scope=row>Armed.Forces</th><td>0.46</td><td>0.45</td><td>-0.18</td><td> 1.00</td><td>0.36</td><td>0.42</td></tr>\n",
       "\t<tr><th scope=row>Population</th><td>0.98</td><td>0.99</td><td> 0.69</td><td> 0.36</td><td>1.00</td><td>0.99</td></tr>\n",
       "\t<tr><th scope=row>Year</th><td>0.99</td><td>1.00</td><td> 0.67</td><td> 0.42</td><td>0.99</td><td>1.00</td></tr>\n",
       "</tbody>\n",
       "</table>\n"
      ],
      "text/latex": [
       "A matrix: 6 x 6 of type dbl\n",
       "\\begin{tabular}{r|llllll}\n",
       "  & GNP.deflator & GNP & Unemployed & Armed.Forces & Population & Year\\\\\n",
       "\\hline\n",
       "\tGNP.deflator & 1.00 & 0.99 &  0.62 &  0.46 & 0.98 & 0.99\\\\\n",
       "\tGNP & 0.99 & 1.00 &  0.60 &  0.45 & 0.99 & 1.00\\\\\n",
       "\tUnemployed & 0.62 & 0.60 &  1.00 & -0.18 & 0.69 & 0.67\\\\\n",
       "\tArmed.Forces & 0.46 & 0.45 & -0.18 &  1.00 & 0.36 & 0.42\\\\\n",
       "\tPopulation & 0.98 & 0.99 &  0.69 &  0.36 & 1.00 & 0.99\\\\\n",
       "\tYear & 0.99 & 1.00 &  0.67 &  0.42 & 0.99 & 1.00\\\\\n",
       "\\end{tabular}\n"
      ],
      "text/markdown": [
       "\n",
       "A matrix: 6 x 6 of type dbl\n",
       "\n",
       "| <!--/--> | GNP.deflator | GNP | Unemployed | Armed.Forces | Population | Year |\n",
       "|---|---|---|---|---|---|---|\n",
       "| GNP.deflator | 1.00 | 0.99 |  0.62 |  0.46 | 0.98 | 0.99 |\n",
       "| GNP | 0.99 | 1.00 |  0.60 |  0.45 | 0.99 | 1.00 |\n",
       "| Unemployed | 0.62 | 0.60 |  1.00 | -0.18 | 0.69 | 0.67 |\n",
       "| Armed.Forces | 0.46 | 0.45 | -0.18 |  1.00 | 0.36 | 0.42 |\n",
       "| Population | 0.98 | 0.99 |  0.69 |  0.36 | 1.00 | 0.99 |\n",
       "| Year | 0.99 | 1.00 |  0.67 |  0.42 | 0.99 | 1.00 |\n",
       "\n"
      ],
      "text/plain": [
       "             GNP.deflator GNP  Unemployed Armed.Forces Population Year\n",
       "GNP.deflator 1.00         0.99  0.62       0.46        0.98       0.99\n",
       "GNP          0.99         1.00  0.60       0.45        0.99       1.00\n",
       "Unemployed   0.62         0.60  1.00      -0.18        0.69       0.67\n",
       "Armed.Forces 0.46         0.45 -0.18       1.00        0.36       0.42\n",
       "Population   0.98         0.99  0.69       0.36        1.00       0.99\n",
       "Year         0.99         1.00  0.67       0.42        0.99       1.00"
      ]
     },
     "metadata": {},
     "output_type": "display_data"
    }
   ],
   "source": [
    "round(cor(X), 2)"
   ]
  },
  {
   "cell_type": "markdown",
   "metadata": {},
   "source": [
    "As predicted variables $GNP$, $GNP.deflator$, $Population$, and $Year$ are highly correlated which explains the high conditioning number."
   ]
  },
  {
   "cell_type": "markdown",
   "metadata": {},
   "source": [
    "3. Compute and comment on the variance inflation factors. (20 points)"
   ]
  },
  {
   "cell_type": "code",
   "execution_count": 12,
   "metadata": {},
   "outputs": [
    {
     "data": {
      "text/html": [
       "<style>\n",
       ".dl-inline {width: auto; margin:0; padding: 0}\n",
       ".dl-inline>dt, .dl-inline>dd {float: none; width: auto; display: inline-block}\n",
       ".dl-inline>dt::after {content: \":\\0020\"; padding-right: .5ex}\n",
       ".dl-inline>dt:not(:first-of-type) {padding-left: .5ex}\n",
       "</style><dl class=dl-inline><dt>GNP.deflator</dt><dd>135.53</dd><dt>GNP</dt><dd>1788.51</dd><dt>Unemployed</dt><dd>33.62</dd><dt>Armed.Forces</dt><dd>3.59</dd><dt>Population</dt><dd>399.15</dd><dt>Year</dt><dd>758.98</dd></dl>\n"
      ],
      "text/latex": [
       "\\begin{description*}\n",
       "\\item[GNP.deflator] 135.53\n",
       "\\item[GNP] 1788.51\n",
       "\\item[Unemployed] 33.62\n",
       "\\item[Armed.Forces] 3.59\n",
       "\\item[Population] 399.15\n",
       "\\item[Year] 758.98\n",
       "\\end{description*}\n"
      ],
      "text/markdown": [
       "GNP.deflator\n",
       ":   135.53GNP\n",
       ":   1788.51Unemployed\n",
       ":   33.62Armed.Forces\n",
       ":   3.59Population\n",
       ":   399.15Year\n",
       ":   758.98\n",
       "\n"
      ],
      "text/plain": [
       "GNP.deflator          GNP   Unemployed Armed.Forces   Population         Year \n",
       "      135.53      1788.51        33.62         3.59       399.15       758.98 "
      ]
     },
     "metadata": {},
     "output_type": "display_data"
    }
   ],
   "source": [
    "round(vif(X), 2)"
   ]
  },
  {
   "cell_type": "markdown",
   "metadata": {},
   "source": [
    "The variance inflation factors of GNP, GNP.deflator, Population, and Year are extremely large. For example, $\\sqrt{VIF(GNP.deflator)} =\\sqrt{135.53} = 11.64$ means that the standard error for the coefficient of GNP.deflator 11.64 times as large as it would be if GNP.deflator were uncorrelated with the other regressors."
   ]
  },
  {
   "cell_type": "markdown",
   "metadata": {},
   "source": [
    "4. Choose a reduced set of predictors that does not exhibit as much collinearity as the full set, fit a new linear model with this reduced set, and comment on the differences between the reduced model and the full model. (20 bonus points)"
   ]
  },
  {
   "cell_type": "markdown",
   "metadata": {},
   "source": [
    "Since the variables $GNP$, $GNP.deflator$, $Population$, and $Year$ are all highly correlated, they all carry the same (amount of) information. Therefore, we can simply re t our linear model with just one of the four variables and the remaining two variables $Unemployed$ and $Armed.Forces$. I\n",
    "decided to keep $Year$. "
   ]
  },
  {
   "cell_type": "code",
   "execution_count": 13,
   "metadata": {},
   "outputs": [
    {
     "data": {
      "text/plain": [
       "\n",
       "Call:\n",
       "lm(formula = Employed ~ Year + Unemployed + Armed.Forces, data = longley)\n",
       "\n",
       "Residuals:\n",
       "     Min       1Q   Median       3Q      Max \n",
       "-0.57285 -0.11989  0.04087  0.13979  0.75303 \n",
       "\n",
       "Coefficients:\n",
       "               Estimate Std. Error t value Pr(>|t|)    \n",
       "(Intercept)  -1.797e+03  6.864e+01 -26.183 5.89e-12 ***\n",
       "Year          9.564e-01  3.553e-02  26.921 4.24e-12 ***\n",
       "Unemployed   -1.470e-02  1.671e-03  -8.793 1.41e-06 ***\n",
       "Armed.Forces -7.723e-03  1.837e-03  -4.204  0.00122 ** \n",
       "---\n",
       "Signif. codes:  0 '***' 0.001 '**' 0.01 '*' 0.05 '.' 0.1 ' ' 1\n",
       "\n",
       "Residual standard error: 0.3321 on 12 degrees of freedom\n",
       "Multiple R-squared:  0.9928,\tAdjusted R-squared:  0.9911 \n",
       "F-statistic: 555.2 on 3 and 12 DF,  p-value: 3.916e-13\n"
      ]
     },
     "metadata": {},
     "output_type": "display_data"
    }
   ],
   "source": [
    "lm_new <- lm(Employed~Year + Unemployed+Armed.Forces, data = longley)\n",
    "summary(lm_new)"
   ]
  },
  {
   "cell_type": "code",
   "execution_count": 14,
   "metadata": {},
   "outputs": [
    {
     "data": {
      "text/html": [
       "31.39"
      ],
      "text/latex": [
       "31.39"
      ],
      "text/markdown": [
       "31.39"
      ],
      "text/plain": [
       "[1] 31.39"
      ]
     },
     "metadata": {},
     "output_type": "display_data"
    }
   ],
   "source": [
    "X_new <- model.matrix(lm_new)[, -1]\n",
    "e_new <- eigen(t(X_new) %*% X_new)\n",
    "round(sqrt(e_new$val[1] / e_new$val), 2)[length(e_new$val)]"
   ]
  },
  {
   "cell_type": "code",
   "execution_count": 15,
   "metadata": {},
   "outputs": [
    {
     "data": {
      "text/html": [
       "<table class=\"dataframe\">\n",
       "<caption>A matrix: 3 x 3 of type dbl</caption>\n",
       "<thead>\n",
       "\t<tr><th></th><th scope=col>Year</th><th scope=col>Unemployed</th><th scope=col>Armed.Forces</th></tr>\n",
       "</thead>\n",
       "<tbody>\n",
       "\t<tr><th scope=row>Year</th><td>1.00</td><td> 0.67</td><td> 0.42</td></tr>\n",
       "\t<tr><th scope=row>Unemployed</th><td>0.67</td><td> 1.00</td><td>-0.18</td></tr>\n",
       "\t<tr><th scope=row>Armed.Forces</th><td>0.42</td><td>-0.18</td><td> 1.00</td></tr>\n",
       "</tbody>\n",
       "</table>\n"
      ],
      "text/latex": [
       "A matrix: 3 x 3 of type dbl\n",
       "\\begin{tabular}{r|lll}\n",
       "  & Year & Unemployed & Armed.Forces\\\\\n",
       "\\hline\n",
       "\tYear & 1.00 &  0.67 &  0.42\\\\\n",
       "\tUnemployed & 0.67 &  1.00 & -0.18\\\\\n",
       "\tArmed.Forces & 0.42 & -0.18 &  1.00\\\\\n",
       "\\end{tabular}\n"
      ],
      "text/markdown": [
       "\n",
       "A matrix: 3 x 3 of type dbl\n",
       "\n",
       "| <!--/--> | Year | Unemployed | Armed.Forces |\n",
       "|---|---|---|---|\n",
       "| Year | 1.00 |  0.67 |  0.42 |\n",
       "| Unemployed | 0.67 |  1.00 | -0.18 |\n",
       "| Armed.Forces | 0.42 | -0.18 |  1.00 |\n",
       "\n"
      ],
      "text/plain": [
       "             Year Unemployed Armed.Forces\n",
       "Year         1.00  0.67       0.42       \n",
       "Unemployed   0.67  1.00      -0.18       \n",
       "Armed.Forces 0.42 -0.18       1.00       "
      ]
     },
     "metadata": {},
     "output_type": "display_data"
    }
   ],
   "source": [
    "round(cor(X_new), 2)"
   ]
  },
  {
   "cell_type": "code",
   "execution_count": 16,
   "metadata": {},
   "outputs": [
    {
     "data": {
      "text/html": [
       "<style>\n",
       ".dl-inline {width: auto; margin:0; padding: 0}\n",
       ".dl-inline>dt, .dl-inline>dd {float: none; width: auto; display: inline-block}\n",
       ".dl-inline>dt::after {content: \":\\0020\"; padding-right: .5ex}\n",
       ".dl-inline>dt:not(:first-of-type) {padding-left: .5ex}\n",
       "</style><dl class=dl-inline><dt>Year</dt><dd>3.89</dd><dt>Unemployed</dt><dd>3.32</dd><dt>Armed.Forces</dt><dd>2.22</dd></dl>\n"
      ],
      "text/latex": [
       "\\begin{description*}\n",
       "\\item[Year] 3.89\n",
       "\\item[Unemployed] 3.32\n",
       "\\item[Armed.Forces] 2.22\n",
       "\\end{description*}\n"
      ],
      "text/markdown": [
       "Year\n",
       ":   3.89Unemployed\n",
       ":   3.32Armed.Forces\n",
       ":   2.22\n",
       "\n"
      ],
      "text/plain": [
       "        Year   Unemployed Armed.Forces \n",
       "        3.89         3.32         2.22 "
      ]
     },
     "metadata": {},
     "output_type": "display_data"
    }
   ],
   "source": [
    "round(vif(X_new), 2)"
   ]
  },
  {
   "cell_type": "markdown",
   "metadata": {},
   "source": [
    "The largest VIF is 3.89.Based on the data, there is no VIF that suggest multicollinearity since all of them are less than 5."
   ]
  },
  {
   "cell_type": "code",
   "execution_count": 17,
   "metadata": {},
   "outputs": [
    {
     "data": {
      "text/html": [
       "<table class=\"dataframe\">\n",
       "<caption>A anova: 2 x 6</caption>\n",
       "<thead>\n",
       "\t<tr><th></th><th scope=col>Res.Df</th><th scope=col>RSS</th><th scope=col>Df</th><th scope=col>Sum of Sq</th><th scope=col>F</th><th scope=col>Pr(&gt;F)</th></tr>\n",
       "\t<tr><th></th><th scope=col>&lt;dbl&gt;</th><th scope=col>&lt;dbl&gt;</th><th scope=col>&lt;dbl&gt;</th><th scope=col>&lt;dbl&gt;</th><th scope=col>&lt;dbl&gt;</th><th scope=col>&lt;dbl&gt;</th></tr>\n",
       "</thead>\n",
       "<tbody>\n",
       "\t<tr><th scope=row>1</th><td> 9</td><td>0.8364241</td><td>NA</td><td>        NA</td><td>      NA</td><td>       NA</td></tr>\n",
       "\t<tr><th scope=row>2</th><td>12</td><td>1.3233607</td><td>-3</td><td>-0.4869367</td><td>1.746495</td><td>0.2270322</td></tr>\n",
       "</tbody>\n",
       "</table>\n"
      ],
      "text/latex": [
       "A anova: 2 x 6\n",
       "\\begin{tabular}{r|llllll}\n",
       "  & Res.Df & RSS & Df & Sum of Sq & F & Pr(>F)\\\\\n",
       "  & <dbl> & <dbl> & <dbl> & <dbl> & <dbl> & <dbl>\\\\\n",
       "\\hline\n",
       "\t1 &  9 & 0.8364241 & NA &         NA &       NA &        NA\\\\\n",
       "\t2 & 12 & 1.3233607 & -3 & -0.4869367 & 1.746495 & 0.2270322\\\\\n",
       "\\end{tabular}\n"
      ],
      "text/markdown": [
       "\n",
       "A anova: 2 x 6\n",
       "\n",
       "| <!--/--> | Res.Df &lt;dbl&gt; | RSS &lt;dbl&gt; | Df &lt;dbl&gt; | Sum of Sq &lt;dbl&gt; | F &lt;dbl&gt; | Pr(&gt;F) &lt;dbl&gt; |\n",
       "|---|---|---|---|---|---|---|\n",
       "| 1 |  9 | 0.8364241 | NA |         NA |       NA |        NA |\n",
       "| 2 | 12 | 1.3233607 | -3 | -0.4869367 | 1.746495 | 0.2270322 |\n",
       "\n"
      ],
      "text/plain": [
       "  Res.Df RSS       Df Sum of Sq  F        Pr(>F)   \n",
       "1  9     0.8364241 NA         NA       NA        NA\n",
       "2 12     1.3233607 -3 -0.4869367 1.746495 0.2270322"
      ]
     },
     "metadata": {},
     "output_type": "display_data"
    }
   ],
   "source": [
    "anova(lm_fit, lm_new)"
   ]
  },
  {
   "cell_type": "markdown",
   "metadata": {},
   "source": [
    "$H_0$: GNP.deflator = GNP = population = 0 \\\n",
    "Test statistic : $F$ = 1.746495\\\n",
    "$F$ distribution : 12 degrees of freedom in the numerator and 9 degrees of freedom in the denominator.\\\n",
    "$p$-value : 0.2270322\\\n",
    "Decision : Fail to Reject $H_0$ at $\\alpha=0.01$"
   ]
  }
 ],
 "metadata": {
  "kernelspec": {
   "display_name": "R",
   "language": "R",
   "name": "ir"
  },
  "language_info": {
   "codemirror_mode": "r",
   "file_extension": ".r",
   "mimetype": "text/x-r-source",
   "name": "R",
   "pygments_lexer": "r",
   "version": "3.4.4"
  },
  "orig_nbformat": 4
 },
 "nbformat": 4,
 "nbformat_minor": 2
}
